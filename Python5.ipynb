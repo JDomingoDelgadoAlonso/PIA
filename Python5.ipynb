{
 "cells": [
  {
   "cell_type": "markdown",
   "metadata": {},
   "source": [
    "## 1. Escribe un programa que solicite al usuario dos números e intente dividir el primero entre el segundo. Maneja la excepción si el segundo número es cero y muestra un mensaje adecuado."
   ]
  },
  {
   "cell_type": "code",
   "execution_count": 2,
   "metadata": {},
   "outputs": [
    {
     "name": "stdout",
     "output_type": "stream",
     "text": [
      "Escribe el primer numero para dividir con el segundo:\n",
      "Escribe el segundo:\n",
      "El resultado es 0.75\n"
     ]
    }
   ],
   "source": [
    "print(\"Escribe el primer numero para dividir con el segundo:\")\n",
    "num1 = int(input())\n",
    "print(\"Escribe el segundo:\")\n",
    "num2 = int(input())\n",
    "try:\n",
    "    resultado = num1/num2\n",
    "    print(\"El resultado es\",resultado)\n",
    "except ZeroDivisionError:\n",
    "    print(\"El segundo numero no puede ser 0.\")\n"
   ]
  },
  {
   "cell_type": "markdown",
   "metadata": {},
   "source": [
    "## 2. Escribe un programa que solicite al usuario que introduzca un número entero. Si el usuario introduce algo que no es un número entero, lanza una excepción y muestra un mensaje adecuado."
   ]
  },
  {
   "cell_type": "code",
   "execution_count": 7,
   "metadata": {},
   "outputs": [
    {
     "name": "stdout",
     "output_type": "stream",
     "text": [
      "Escribe un número entero:\n",
      "El caracter introducido no es un número entero\n"
     ]
    }
   ],
   "source": [
    "print(\"Escribe un número entero:\")\n",
    "try:\n",
    "    num1 = int(input())\n",
    "    print(\"tu número es\",num1)\n",
    "except ValueError:\n",
    "    print(\"El caracter introducido no es un número entero\")\n"
   ]
  },
  {
   "cell_type": "markdown",
   "metadata": {},
   "source": [
    "## 3. Modifica el programa anterior para que maneje las excepciones ValueError y ZeroDivisionError. Si el usuario introduce un número no válido, muestra un mensaje, y si intenta dividir por cero, muestra otro mensaje."
   ]
  },
  {
   "cell_type": "code",
   "execution_count": 11,
   "metadata": {},
   "outputs": [
    {
     "name": "stdout",
     "output_type": "stream",
     "text": [
      "Escribe el primer numero para dividir con el segundo:\n",
      "Escribe el segundo:\n",
      "El resultado es 0.75\n"
     ]
    }
   ],
   "source": [
    "try:\n",
    "    print(\"Escribe el primer numero para dividir con el segundo:\")\n",
    "    num1 = int(input())\n",
    "    print(\"Escribe el segundo:\")\n",
    "    num2 = int(input())\n",
    "    try:\n",
    "        resultado = num1/num2\n",
    "        print(\"El resultado es\",resultado)\n",
    "    except ZeroDivisionError:\n",
    "        print(\"El segundo numero no puede ser 0.\")\n",
    "except ValueError:\n",
    "    print(\"El caracter introducido no es un número entero\")    "
   ]
  },
  {
   "cell_type": "markdown",
   "metadata": {},
   "source": [
    "## 4. Escribe un programa que intente abrir un archivo, lea su contenido y lo muestre. Utiliza finally para asegurarte de que el archivo siempre se cierre, independientemente de si ocurre una excepción."
   ]
  },
  {
   "cell_type": "code",
   "execution_count": 19,
   "metadata": {},
   "outputs": [
    {
     "name": "stdout",
     "output_type": "stream",
     "text": [
      "hola hola hola\n"
     ]
    }
   ],
   "source": [
    "try:\n",
    "    archivo = open('archivo.txt','w')\n",
    "    archivo.write('hola hola hola')\n",
    "    archivo = open('archivo.txt','r')\n",
    "    print(archivo.read())\n",
    "except:\n",
    "    print(\"ha ocurrido una exepción\")\n",
    "finally:\n",
    "    archivo.close()\n"
   ]
  },
  {
   "cell_type": "markdown",
   "metadata": {},
   "source": [
    "## 5. Crea una excepción personalizada llamada EdadInvalidaError. Luego, escribe un programa que solicite al usuario que introduzca su edad. Si la edad es negativa o mayor de 120, lanza la excepción personalizada con un mensaje de error adecuado."
   ]
  },
  {
   "cell_type": "code",
   "execution_count": 25,
   "metadata": {},
   "outputs": [
    {
     "name": "stdout",
     "output_type": "stream",
     "text": [
      "Introduce tu edad: \n",
      "La edad 167 no es válida. Debe estar entre 0 y 120.\n"
     ]
    }
   ],
   "source": [
    "class EdadInvalidaError(Exception):\n",
    "    def __init__(self, edad):\n",
    "        self.edad = edad\n",
    "def verificar_edad(edad):\n",
    "    if edad < 0 or edad > 120:\n",
    "        raise EdadInvalidaError(edad)\n",
    "\n",
    "print(\"Introduce tu edad: \")\n",
    "try:\n",
    "    edad = int(input())\n",
    "    verificar_edad(edad)\n",
    "    print(\"Edad válida:\",edad)\n",
    "except EdadInvalidaError as x:\n",
    "    print(x)\n"
   ]
  }
 ],
 "metadata": {
  "kernelspec": {
   "display_name": "Python 3",
   "language": "python",
   "name": "python3"
  },
  "language_info": {
   "codemirror_mode": {
    "name": "ipython",
    "version": 3
   },
   "file_extension": ".py",
   "mimetype": "text/x-python",
   "name": "python",
   "nbconvert_exporter": "python",
   "pygments_lexer": "ipython3",
   "version": "3.11.10"
  }
 },
 "nbformat": 4,
 "nbformat_minor": 2
}
