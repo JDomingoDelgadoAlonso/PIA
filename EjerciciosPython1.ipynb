{
 "cells": [
  {
   "cell_type": "markdown",
   "metadata": {},
   "source": [
    "# 1. Escribe un programa que pida un número al usuario e imprima si es par o impar."
   ]
  },
  {
   "cell_type": "code",
   "execution_count": 2,
   "metadata": {},
   "outputs": [
    {
     "name": "stdout",
     "output_type": "stream",
     "text": [
      "Dame un número y te diré si es par o impar\n",
      "El número es impar\n"
     ]
    }
   ],
   "source": [
    "print(\"Dame un número y te diré si es par o impar\")\n",
    "num = int(input())\n",
    "if (num % 2 == 0):\n",
    "    print(\"El número es par\")\n",
    "else:\n",
    "    print(\"El número es impar\")"
   ]
  },
  {
   "cell_type": "markdown",
   "metadata": {},
   "source": [
    "# 2. Escribe un programa que reciba tres números como entrada y determine cuál de ellos es el mayor."
   ]
  },
  {
   "cell_type": "code",
   "execution_count": 3,
   "metadata": {},
   "outputs": [
    {
     "name": "stdout",
     "output_type": "stream",
     "text": [
      "Dame 3 números y te diré cual es el mayor\n",
      "El nuero mayor es 90\n"
     ]
    }
   ],
   "source": [
    "print(\"Dame 3 números y te diré cual es el mayor\")\n",
    "num1 = int(input())\n",
    "num2 = int(input())\n",
    "num3 = int(input())\n",
    "numeros = [num1, num2, num3]\n",
    "numero_mayor = max(numeros)\n",
    "print(\"El numero mayor es el \" + str(numero_mayor))"
   ]
  },
  {
   "cell_type": "markdown",
   "metadata": {},
   "source": [
    "# 3. Escribe un programa que calcule la suma de los números del 1 al 100 utilizando un bucle for."
   ]
  },
  {
   "cell_type": "code",
   "execution_count": 10,
   "metadata": {},
   "outputs": [
    {
     "name": "stdout",
     "output_type": "stream",
     "text": [
      "la suma total es: 5050\n"
     ]
    }
   ],
   "source": [
    "sum = 0\n",
    "for x in range (1, 101):\n",
    "    sum += x\n",
    "print(\"la suma total es: \" + str(sum))    "
   ]
  },
  {
   "cell_type": "markdown",
   "metadata": {},
   "source": [
    "# 4. Escribe un programa que cuente cuántas vocales hay en una cadena dada por el usuario."
   ]
  },
  {
   "cell_type": "code",
   "execution_count": null,
   "metadata": {},
   "outputs": [],
   "source": [
    "cadena = []\n",
    "print(\"Dame una palabra o frase para contar la vocal deseada en ella\")\n",
    "cadena = str(input())\n",
    "print(\"¿Qué vocal quieres contar en la palabra o frase?\")\n",
    "vocal = str(input())\n",
    "contador = 0\n",
    "for x in cadena:\n",
    "    if (x == vocal):\n",
    "        contador += 1\n",
    "print (\"La vocal \" + str(vocal) +\" aparece \" + str(contador) + \" veces.\")"
   ]
  },
  {
   "cell_type": "code",
   "execution_count": 23,
   "metadata": {},
   "outputs": [
    {
     "name": "stdout",
     "output_type": "stream",
     "text": [
      "Dame una palabra o frase y contaré el número de vocales\n",
      "Hay 5 vocales.\n"
     ]
    }
   ],
   "source": [
    "cadena = []\n",
    "print(\"Dame una palabra o frase y contaré el número de vocales\")\n",
    "cadena = str(input())\n",
    "vocales = ['a', 'e', 'i', 'o', 'u']\n",
    "contador = 0\n",
    "for x in cadena:\n",
    "    if (x in vocales):\n",
    "        contador += 1\n",
    "print(\"Hay \"+str(contador)+\" vocales.\")"
   ]
  },
  {
   "cell_type": "markdown",
   "metadata": {},
   "source": [
    "# 5. Escribe un programa que imprima la tabla de multiplicar de un número dado por el usuario."
   ]
  },
  {
   "cell_type": "code",
   "execution_count": 25,
   "metadata": {},
   "outputs": [
    {
     "name": "stdout",
     "output_type": "stream",
     "text": [
      "Dame un número y te mostraré su tabla de multiplicar\n",
      "La tabla del 5\n",
      "5 * 0 = 0\n",
      "5 * 1 = 5\n",
      "5 * 2 = 10\n",
      "5 * 3 = 15\n",
      "5 * 4 = 20\n",
      "5 * 5 = 25\n",
      "5 * 6 = 30\n",
      "5 * 7 = 35\n",
      "5 * 8 = 40\n",
      "5 * 9 = 45\n",
      "5 * 10 = 50\n"
     ]
    }
   ],
   "source": [
    "print(\"Dame un número y te mostraré su tabla de multiplicar\")\n",
    "num = int(input())\n",
    "print(\"La tabla del \"+str(num))\n",
    "for x in range(11):\n",
    "    print(str(num) + \" * \"+ str(x) + \" = \"+str(x * num))"
   ]
  },
  {
   "cell_type": "markdown",
   "metadata": {},
   "source": [
    "# 6. Escribe un programa que reciba un número y cuente cuántos divisores tiene, es decir, cuántos números del 1 al número ingresado son divisores exactos."
   ]
  },
  {
   "cell_type": "code",
   "execution_count": 34,
   "metadata": {},
   "outputs": [
    {
     "name": "stdout",
     "output_type": "stream",
     "text": [
      "Dame un número y te diré cuantos divisores tiene: \n",
      "1 es divisor\n",
      "7 es divisor\n"
     ]
    }
   ],
   "source": [
    "print(\"Dame un número y te diré cuantos divisores tiene: \")\n",
    "num = int(input())\n",
    "rango_maximo = int(num/2) # tamb  se puede usar // para division entera\n",
    "for x in range(1, rango_maximo + 1): #se tiene que poner +1 para el rango maximo con division no entera, no incluía la mitad (ejemplo num = 10)\n",
    "    if(num % x == 0):\n",
    "        print(str(x) + \" es divisor\")\n",
    "print(str(num)+ \" es divisor\")"
   ]
  },
  {
   "cell_type": "markdown",
   "metadata": {},
   "source": [
    "# 7. Escribe un programa que imprima todos los números primos entre 1 y 100."
   ]
  },
  {
   "cell_type": "code",
   "execution_count": 43,
   "metadata": {},
   "outputs": [
    {
     "name": "stdout",
     "output_type": "stream",
     "text": [
      "Números primos del 1 al 100\n",
      "2 es primo\n",
      "3 es primo\n",
      "5 es primo\n",
      "7 es primo\n",
      "11 es primo\n",
      "13 es primo\n",
      "17 es primo\n",
      "19 es primo\n",
      "23 es primo\n",
      "29 es primo\n",
      "31 es primo\n",
      "37 es primo\n",
      "41 es primo\n",
      "43 es primo\n",
      "47 es primo\n",
      "53 es primo\n",
      "59 es primo\n",
      "61 es primo\n",
      "67 es primo\n",
      "71 es primo\n",
      "73 es primo\n",
      "79 es primo\n",
      "83 es primo\n",
      "89 es primo\n",
      "97 es primo\n"
     ]
    }
   ],
   "source": [
    "print(\"Números primos del 1 al 100\")\n",
    "for x in range(2, 101):\n",
    "    primo = True\n",
    "    for i in range(2, x):\n",
    "        if(x % i == 0):\n",
    "            primo = False\n",
    "            break\n",
    "    if primo:\n",
    "        print(str(x) + \" es primo\")"
   ]
  },
  {
   "cell_type": "markdown",
   "metadata": {},
   "source": [
    "# 8. Escribe un programa que sume todos los números impares entre un rango de dos números dados por el usuario."
   ]
  },
  {
   "cell_type": "code",
   "execution_count": 44,
   "metadata": {},
   "outputs": [
    {
     "name": "stdout",
     "output_type": "stream",
     "text": [
      "Dame el numero para el rango minimo\n",
      "Dame el numero para el rango maximo\n",
      "La suma de los numeros impare es: 9\n"
     ]
    }
   ],
   "source": [
    "print(\"Dame el numero para el rango minimo\")\n",
    "rango_min = int(input())\n",
    "print(\"Dame el numero para el rango maximo\")\n",
    "rango_max = int(input())\n",
    "sum_impares = 0\n",
    "for x in range(rango_min, rango_max + 1):\n",
    "    if(x%2 != 0):\n",
    "        sum_impares += x\n",
    "print(\"La suma de los numeros impare es: \"+str(sum_impares))        "
   ]
  },
  {
   "cell_type": "markdown",
   "metadata": {},
   "source": [
    "# 9. Un número perfecto es aquel que es igual a la suma de sus divisores propios. Escribe un programa que verifique si un número dado es perfecto."
   ]
  },
  {
   "cell_type": "code",
   "execution_count": 50,
   "metadata": {},
   "outputs": [
    {
     "name": "stdout",
     "output_type": "stream",
     "text": [
      "Dame un numero para comprobar si es perfecto\n",
      "divisor: 1\n",
      "divisor: 2\n",
      "divisor: 3\n",
      "Suma de los divisores: 6\n",
      "El numero es perfecto\n"
     ]
    }
   ],
   "source": [
    "print(\"Dame un numero para comprobar si es perfecto\")\n",
    "num = int(input())\n",
    "divisores = 0\n",
    "for x in range(1, num//2+1):\n",
    "    if(num % x == 0):\n",
    "        print(\"divisor: \"+str(x))\n",
    "        divisores +=x\n",
    "print(\"Suma de los divisores: \"+str(divisores))        \n",
    "if(divisores == num):\n",
    "    print(\"El numero es perfecto\")\n",
    "else:\n",
    "    print(\"No es perfecto\")"
   ]
  },
  {
   "cell_type": "markdown",
   "metadata": {},
   "source": [
    "# 10. Escribe un programa que imprima los primeros n términos de la secuencia de Fibonacci, donde n es ingresado por el usuario."
   ]
  },
  {
   "cell_type": "markdown",
   "metadata": {},
   "source": [
    "# 11. Escribe un programa que elija un número aleatorio entre 1 y 100. Luego, el usuario intentará adivinar el número y el programa debe responder si el número es mayor o menor que el intento del usuario. El programa termina cuando el usuario adivina correctamente."
   ]
  }
 ],
 "metadata": {
  "kernelspec": {
   "display_name": "Python 3",
   "language": "python",
   "name": "python3"
  },
  "language_info": {
   "codemirror_mode": {
    "name": "ipython",
    "version": 3
   },
   "file_extension": ".py",
   "mimetype": "text/x-python",
   "name": "python",
   "nbconvert_exporter": "python",
   "pygments_lexer": "ipython3",
   "version": "3.11.10"
  }
 },
 "nbformat": 4,
 "nbformat_minor": 2
}
