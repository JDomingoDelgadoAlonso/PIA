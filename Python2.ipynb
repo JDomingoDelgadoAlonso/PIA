{
 "cells": [
  {
   "cell_type": "markdown",
   "metadata": {},
   "source": [
    "# LISTAS"
   ]
  },
  {
   "cell_type": "markdown",
   "metadata": {},
   "source": [
    "## 1. Dada una lista de números enteros, escribe un programa que calcule la suma de todos los elementos de la lista."
   ]
  },
  {
   "cell_type": "code",
   "execution_count": 25,
   "metadata": {},
   "outputs": [
    {
     "name": "stdout",
     "output_type": "stream",
     "text": [
      "La suma de los elementos de la lista es: 12\n"
     ]
    }
   ],
   "source": [
    "listnum = [2,2,2,2,2,2]\n",
    "suma = 0\n",
    "for x in listnum:\n",
    "    suma += x\n",
    "print(\"La suma de los elementos de la lista es:\",(suma))"
   ]
  },
  {
   "cell_type": "markdown",
   "metadata": {},
   "source": [
    "## 2. Escribe una función que tome una lista de números como entrada y devuelva el número mayor y menor de la lista."
   ]
  },
  {
   "cell_type": "code",
   "execution_count": 26,
   "metadata": {},
   "outputs": [
    {
     "name": "stdout",
     "output_type": "stream",
     "text": [
      "Este es el valor mas pequeño de la lista 1\n",
      "Este es el valor mas grande de la lista 20\n"
     ]
    }
   ],
   "source": [
    "listnum = [9,3,4,6,7,8,9,20,1]\n",
    "menor = listnum[0]\n",
    "mayor=0\n",
    "for x in listnum:\n",
    "    if (x < menor):\n",
    "        menor = x\n",
    "    if (x > mayor):\n",
    "        mayor = x    \n",
    "print(\"Este es el valor mas pequeño de la lista\", menor)\n",
    "print(\"Este es el valor mas grande de la lista\", mayor)\n",
    "\n"
   ]
  },
  {
   "cell_type": "markdown",
   "metadata": {},
   "source": [
    "## 3. Escribe un programa que elimine los elementos duplicados de una lista, manteniendo el orden original."
   ]
  },
  {
   "cell_type": "code",
   "execution_count": 35,
   "metadata": {},
   "outputs": [
    {
     "name": "stdout",
     "output_type": "stream",
     "text": [
      "[1, 2, 3, 5, 6, 7]\n"
     ]
    }
   ],
   "source": [
    "listnum = [1, 7, 2, 3, 5, 6, 1, 7, 7, 1]\n",
    "listnumsinrepetir = list(set(listnum))\n",
    "print(listnumsinrepetir)            \n",
    "#Hay que tener cuidado porque esto no respetaría el orden de los datos de la lista\n",
    "     "
   ]
  },
  {
   "cell_type": "code",
   "execution_count": 30,
   "metadata": {},
   "outputs": [
    {
     "name": "stdout",
     "output_type": "stream",
     "text": [
      "[1, 2, 3, 4, 5, 7]\n"
     ]
    }
   ],
   "source": [
    "listnum = [1,2,3,4,5,1,7]\n",
    "listnumsinrepe = []\n",
    "for x in listnum:\n",
    "    if x not in listnumsinrepe:\n",
    "        listnumsinrepe.append(x)\n",
    "print(listnumsinrepe)"
   ]
  },
  {
   "cell_type": "markdown",
   "metadata": {},
   "source": [
    "## 4. Dada una lista y un número n, rota la lista a la izquierda n posiciones."
   ]
  },
  {
   "cell_type": "code",
   "execution_count": 49,
   "metadata": {},
   "outputs": [
    {
     "name": "stdout",
     "output_type": "stream",
     "text": [
      "Dame un numero de posiciones para rotar la lista\n",
      "[5, 3, 4, 5, 6, 1, 9, 2]\n"
     ]
    }
   ],
   "source": [
    "listnum = [1,9,2,5,3,4,5,6]\n",
    "listnum2 = []\n",
    "listnum3 = []\n",
    "listfinal = []\n",
    "print(\"Dame un numero de posiciones para rotar la lista\")\n",
    "n = int(input())\n",
    "for x in range(n,len(listnum)):\n",
    "    listnum2.append(listnum[x])\n",
    "listnum3 = listnum[:n]\n",
    "listfinal = listnum2 + listnum3\n",
    "print(listfinal)    \n",
    "    "
   ]
  },
  {
   "cell_type": "code",
   "execution_count": 51,
   "metadata": {},
   "outputs": [
    {
     "name": "stdout",
     "output_type": "stream",
     "text": [
      "Dame un numero de posiciones para rotar la lista\n",
      "[5, 3, 4, 5, 6, 1, 9, 2]\n"
     ]
    }
   ],
   "source": [
    "listnum = [1,9,2,5,3,4,5,6]\n",
    "listnum2 = []\n",
    "listnum3 = []\n",
    "listfinal = []\n",
    "print(\"Dame un numero de posiciones para rotar la lista\")\n",
    "n = int(input())\n",
    "listnum2 = listnum[n:]\n",
    "listnum3 = listnum[:n]\n",
    "listfinal = listnum2 + listnum3\n",
    "print(listfinal)"
   ]
  },
  {
   "cell_type": "markdown",
   "metadata": {},
   "source": [
    "## 5. Dadas dos listas de igual longitud, escribe un programa que cree una nueva lista donde los elementos de las listas originales se alternen."
   ]
  },
  {
   "cell_type": "markdown",
   "metadata": {},
   "source": [
    "# TUPLAS"
   ]
  },
  {
   "cell_type": "markdown",
   "metadata": {},
   "source": [
    "# "
   ]
  },
  {
   "cell_type": "markdown",
   "metadata": {},
   "source": [
    "# "
   ]
  },
  {
   "cell_type": "markdown",
   "metadata": {},
   "source": [
    "# "
   ]
  },
  {
   "cell_type": "markdown",
   "metadata": {},
   "source": [
    "# "
   ]
  }
 ],
 "metadata": {
  "kernelspec": {
   "display_name": "Python 3",
   "language": "python",
   "name": "python3"
  },
  "language_info": {
   "codemirror_mode": {
    "name": "ipython",
    "version": 3
   },
   "file_extension": ".py",
   "mimetype": "text/x-python",
   "name": "python",
   "nbconvert_exporter": "python",
   "pygments_lexer": "ipython3",
   "version": "3.11.10"
  }
 },
 "nbformat": 4,
 "nbformat_minor": 2
}
