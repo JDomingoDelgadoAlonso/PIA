{
 "cells": [
  {
   "cell_type": "markdown",
   "metadata": {},
   "source": [
    "## Escribe un programa que solicite al usuario una cadena de texto y la escriba en un fichero llamado salida.txt."
   ]
  },
  {
   "cell_type": "code",
   "execution_count": 5,
   "metadata": {},
   "outputs": [
    {
     "name": "stdout",
     "output_type": "stream",
     "text": [
      "Escribe una cadena de texto: \n",
      "hola prueba fichero lectura\n"
     ]
    }
   ],
   "source": [
    "print(\"Escribe una cadena de texto: \")\n",
    "cadena = str(input())\n",
    "fichero = open('salida.txt', 'w')\n",
    "fichero.write(cadena)\n",
    "fichero.close()\n",
    "fichero = open('salida.txt', 'r')\n",
    "print(\"Contenido del fichero: \")\n",
    "print(fichero.read())\n",
    "fichero.close()\n"
   ]
  },
  {
   "cell_type": "markdown",
   "metadata": {},
   "source": [
    "## Escribe un programa que abra el fichero salida.txt (creado en el ejercicio anterior), lea su contenido y lo muestre en pantalla."
   ]
  },
  {
   "cell_type": "code",
   "execution_count": 6,
   "metadata": {},
   "outputs": [
    {
     "name": "stdout",
     "output_type": "stream",
     "text": [
      "Contenido del fichero: \n",
      "hola prueba fichero lectura\n"
     ]
    }
   ],
   "source": [
    "fichero = open('salida.txt', 'r')\n",
    "print(\"Contenido del fichero: \")\n",
    "print(fichero.read())\n",
    "fichero.close()"
   ]
  },
  {
   "cell_type": "markdown",
   "metadata": {},
   "source": [
    "## Modifica el programa de escritura para que, en lugar de sobrescribir el contenido de salida.txt, añada un nuevo texto al final del archivo sin borrar lo que ya existe."
   ]
  },
  {
   "cell_type": "code",
   "execution_count": 7,
   "metadata": {},
   "outputs": [
    {
     "name": "stdout",
     "output_type": "stream",
     "text": [
      "Escribe una cadena de texto para añadir al fichero: \n"
     ]
    }
   ],
   "source": [
    "print(\"Escribe una cadena de texto para añadir al fichero: \")\n",
    "cadena = str(input())\n",
    "fichero = open('salida.txt', 'a')\n",
    "fichero.write(cadena)\n",
    "fichero.close()\n"
   ]
  },
  {
   "cell_type": "markdown",
   "metadata": {},
   "source": [
    "## Escribe un programa que lea el contenido de salida.txt y cuente cuántas palabras hay en el fichero."
   ]
  },
  {
   "cell_type": "code",
   "execution_count": 20,
   "metadata": {},
   "outputs": [
    {
     "name": "stdout",
     "output_type": "stream",
     "text": [
      "Contenido del fichero: \n",
      "hola prueba fichero lecturaholaa buenas segunda linea\n",
      "El programa tiene: 53 caracteres\n"
     ]
    }
   ],
   "source": [
    "fichero = open('salida.txt', 'r')\n",
    "print(\"Contenido del fichero: \")\n",
    "contenido = fichero.read()\n",
    "print(contenido)\n",
    "caracteres = len(contenido)\n",
    "print(\"El programa tiene:\",caracteres,\"caracteres\")\n",
    "fichero.close()\n",
    "#CUENTA LOS ESPACIOS"
   ]
  },
  {
   "cell_type": "code",
   "execution_count": 21,
   "metadata": {},
   "outputs": [
    {
     "name": "stdout",
     "output_type": "stream",
     "text": [
      "Contenido del fichero: \n",
      "hola prueba fichero lecturaholaa buenas segunda linea\n",
      "El programa tiene: 47 caracteres\n"
     ]
    }
   ],
   "source": [
    "fichero = open('salida.txt', 'r')\n",
    "print(\"Contenido del fichero: \")\n",
    "contenido = fichero.read()\n",
    "print(contenido)\n",
    "contador = 0\n",
    "for caracter in contenido:\n",
    "    if('A' <= caracter <= 'Z') or ('a' <= caracter <= 'z'):\n",
    "        contador += 1\n",
    "print(\"El programa tiene:\",contador,\"caracteres\")\n",
    "fichero.close()\n"
   ]
  }
 ],
 "metadata": {
  "kernelspec": {
   "display_name": "Python 3",
   "language": "python",
   "name": "python3"
  },
  "language_info": {
   "codemirror_mode": {
    "name": "ipython",
    "version": 3
   },
   "file_extension": ".py",
   "mimetype": "text/x-python",
   "name": "python",
   "nbconvert_exporter": "python",
   "pygments_lexer": "ipython3",
   "version": "3.11.10"
  }
 },
 "nbformat": 4,
 "nbformat_minor": 2
}
