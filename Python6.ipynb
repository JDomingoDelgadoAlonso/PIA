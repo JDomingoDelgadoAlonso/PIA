{
 "cells": [
  {
   "cell_type": "markdown",
   "metadata": {},
   "source": [
    "# EJERCICIOS de POO"
   ]
  },
  {
   "cell_type": "markdown",
   "metadata": {},
   "source": [
    "## 1. Crea una clase CuentaBancaria con los atributos titular y saldo. Crea métodos para depositar (depositar) y retirar (retirar) dinero. Si el saldo no es suficiente al intentar retirar, imprime un mensaje de error."
   ]
  },
  {
   "cell_type": "code",
   "execution_count": 28,
   "metadata": {},
   "outputs": [
    {
     "name": "stdout",
     "output_type": "stream",
     "text": [
      "Titular: Domi,  Saldo: 10000€\n",
      "Titular: Domi,  Saldo: 20000€\n",
      "El dinero a retirar --> 20001€, es mayor al saldo de su cuenta --> 20000 €\n",
      "Titular: Domi,  Saldo: 20000€\n"
     ]
    }
   ],
   "source": [
    "class CuentaBancaria:\n",
    "    def __init__(self, titular, saldo):\n",
    "        self.titular = titular\n",
    "        self.saldo = saldo\n",
    "    def depositar(self, mas_saldo, titular):\n",
    "        self.saldo += mas_saldo\n",
    "        self.titular = titular\n",
    "    def retirar(self, menos_saldo, titular):\n",
    "        if (menos_saldo < self.saldo):\n",
    "            self.saldo -= menos_saldo\n",
    "            self.titular = titular\n",
    "        else:\n",
    "            print(\"El dinero a retirar --> \"+str(menos_saldo)+ \"€, es mayor al saldo de su cuenta --> \"+str(self.saldo)+\" €\")\n",
    "    def __str__(self):\n",
    "        datospersona = \"Titular: \"+self.titular+\", \"+\" Saldo: \"+str(self.saldo)+\"€\"\n",
    "        return datospersona\n",
    "        \n",
    "\n",
    "\n",
    "cuenta1 = CuentaBancaria(\"Domi\", 10000)\n",
    "cuenta2 = CuentaBancaria(\"Godino\", 20000)\n",
    "print(cuenta1)\n",
    "\n",
    "cuenta1.depositar(10000, \"Domi\")\n",
    "print(cuenta1)\n",
    "cuenta1.retirar(20001, \"Domi\")\n",
    "print(cuenta1)\n"
   ]
  },
  {
   "cell_type": "markdown",
   "metadata": {},
   "source": [
    "## 2. Crea una clase Empleado con atributos nombre y salario. Luego, crea una subclase Gerente que herede de Empleado, pero además tenga un atributo departamento. Añade un método en Gerente que muestre toda la información (nombre, salario, departamento)."
   ]
  },
  {
   "cell_type": "code",
   "execution_count": 32,
   "metadata": {},
   "outputs": [
    {
     "name": "stdout",
     "output_type": "stream",
     "text": [
      "Nombre: Domi, Salario: 24000, Departamento: Directivo\n"
     ]
    }
   ],
   "source": [
    "class Empleado:\n",
    "    def __init__(self, nombre, salario):\n",
    "        self.nombre = nombre\n",
    "        self.salario = salario\n",
    "class Gerente(Empleado):\n",
    "    def __init__(self, nombre, salario, departamento):\n",
    "        super().__init__(nombre, salario)\n",
    "        self.departamento = departamento\n",
    "    def __str__(self):\n",
    "        datosgerente = \"Nombre: \"+self.nombre+\",\"+\" Salario: \"+str(self.salario)+\", \"+\"Departamento: \"+self.departamento\n",
    "        return datosgerente\n",
    "empleado1 = Empleado(\"Domi\", 24000)\n",
    "gerente1 = Gerente(empleado1.nombre, empleado1.salario, \"Directivo\")\n",
    "print(gerente1)\n",
    "    "
   ]
  },
  {
   "cell_type": "markdown",
   "metadata": {},
   "source": [
    "## 3. Crea una clase base Vehiculo con atributos marca y modelo. Crea dos clases derivadas: Coche y Moto, cada una con un atributo adicional específico. Implementa un método describir que muestre todos los atributos del vehículo."
   ]
  },
  {
   "cell_type": "code",
   "execution_count": null,
   "metadata": {},
   "outputs": [],
   "source": [
    "class Vehiculo:\n",
    "    def __init__(self, marca, modelo):\n",
    "        self.marca = marca\n",
    "        self.modelo = modelo\n",
    "class Coche(Vehiculo):\n",
    "    def __init__(self, marca, modelo, num_puertas):\n",
    "        super().__init__(marca, modelo)\n",
    "        self.num_puertas = num_puertas\n",
    "class Moto(Vehiculo):\n",
    "    def __init__(self, marca, modelo, cm_manillar):\n",
    "        super().__init__(marca, modelo)\n",
    "        self.cm_manillar = cm_manillar"
   ]
  },
  {
   "cell_type": "markdown",
   "metadata": {},
   "source": [
    "## Crea algunas instancias de estos objetos y haz pruebas con ellos."
   ]
  }
 ],
 "metadata": {
  "kernelspec": {
   "display_name": "base",
   "language": "python",
   "name": "python3"
  },
  "language_info": {
   "codemirror_mode": {
    "name": "ipython",
    "version": 3
   },
   "file_extension": ".py",
   "mimetype": "text/x-python",
   "name": "python",
   "nbconvert_exporter": "python",
   "pygments_lexer": "ipython3",
   "version": "3.12.4"
  }
 },
 "nbformat": 4,
 "nbformat_minor": 2
}
