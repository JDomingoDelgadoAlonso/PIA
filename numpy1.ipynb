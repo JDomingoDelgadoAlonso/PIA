{
 "cells": [
  {
   "cell_type": "markdown",
   "metadata": {},
   "source": [
    "## Ejercicios con Numpy"
   ]
  },
  {
   "cell_type": "markdown",
   "metadata": {},
   "source": [
    "### Ejercicio 1. Crea una array de numpy con los siguiente números primos: 2, 3, 5, 7, 11, 13, 17, 19, 23, 29\n",
    "\n",
    "* Muestra el último elemento. Y debes hacerlo sin saber su longitud.\n",
    "* Muestra el 3º elemento\n",
    "* Muestra el último y 3º elemento.\n",
    "* Muestra del 2º al 5º elemento.\n",
    "* Muestra el 2° y el 5° elemento\n",
    "* Muestra el último y el penúltimo elemento. Y debes hacerlo sin saber su longitud.\n"
   ]
  },
  {
   "cell_type": "code",
   "execution_count": 15,
   "metadata": {},
   "outputs": [
    {
     "name": "stdout",
     "output_type": "stream",
     "text": [
      "Ultimo elemento del array: 29\n",
      "Tercer elemento: 5\n",
      "Último y Tercer elemento: 29 y 5\n",
      "Del 2º al 5º elemento:  [ 3  5  7 11]\n",
      "El último y el penúltimo:  29 y 23\n"
     ]
    }
   ],
   "source": [
    "import numpy as np\n",
    "a = np.array([1,3,5,7,11,13,17,19,23,29])\n",
    "print(\"Ultimo elemento del array:\",a[-1])\n",
    "print(\"Tercer elemento:\",a[2])\n",
    "print(\"Último y Tercer elemento:\",a[-1],\"y\",a[2])\n",
    "print(\"Del 2º al 5º elemento: \",a[1:5])\n",
    "print(\"El último y el penúltimo: \",a[-1],\"y\",a[-2])"
   ]
  },
  {
   "cell_type": "markdown",
   "metadata": {},
   "source": [
    "### Ejercicio 2\n",
    "* Crea una array de numpy con los siguiente números primos: 2, 3, 5, 7, 11, 13, 17, 19, 23, 29 pero que el array sea de tipo \"float\" de 32 bits.\n",
    "* Usando la función arange de numpy crea un array con los números del 100 al 200 pero sin incluir el 200. Muestra el resultado.\n",
    "* Usando la función range estándar de Python crea un array con los números del 100 al 200 pero sin incluir el 200. Muestra el resultado. ¿Qué diferencia hay con arange?"
   ]
  },
  {
   "cell_type": "code",
   "execution_count": 11,
   "metadata": {},
   "outputs": [
    {
     "name": "stdout",
     "output_type": "stream",
     "text": [
      "Resultado del array con numpy de numeros del 100 al 200: [100 101 102 103 104 105 106 107 108 109 110 111 112 113 114 115 116 117\n",
      " 118 119 120 121 122 123 124 125 126 127 128 129 130 131 132 133 134 135\n",
      " 136 137 138 139 140 141 142 143 144 145 146 147 148 149 150 151 152 153\n",
      " 154 155 156 157 158 159 160 161 162 163 164 165 166 167 168 169 170 171\n",
      " 172 173 174 175 176 177 178 179 180 181 182 183 184 185 186 187 188 189\n",
      " 190 191 192 193 194 195 196 197 198 199]\n",
      "[100, 101, 102, 103, 104, 105, 106, 107, 108, 109, 110, 111, 112, 113, 114, 115, 116, 117, 118, 119, 120, 121, 122, 123, 124, 125, 126, 127, 128, 129, 130, 131, 132, 133, 134, 135, 136, 137, 138, 139, 140, 141, 142, 143, 144, 145, 146, 147, 148, 149, 150, 151, 152, 153, 154, 155, 156, 157, 158, 159, 160, 161, 162, 163, 164, 165, 166, 167, 168, 169, 170, 171, 172, 173, 174, 175, 176, 177, 178, 179, 180, 181, 182, 183, 184, 185, 186, 187, 188, 189, 190, 191, 192, 193, 194, 195, 196, 197, 198, 199]\n",
      "<class 'numpy.ndarray'>\n",
      "<class 'list'>\n"
     ]
    }
   ],
   "source": [
    "import numpy as np\n",
    "a2 = np.array([2, 3, 5, 7, 11, 13, 17, 19, 23, 29], dtype=np.float32)\n",
    "#a2\n",
    "arang2 = np.arange(100,200)\n",
    "print(\"Resultado del array con numpy de numeros del 100 al 200:\",arang2)\n",
    "rang2py = [*range(100, 200)]\n",
    "print(rang2py)\n",
    "print(type(arang2))\n",
    "print(type(rang2py))\n",
    "#La diferencia como se puede comprobar con el método de python type es que tienen diferente tipo de datos\n",
    "#por lo que estos tendrán métodos diferentes con los que operar y serán eficientes a distinta manera.\n"
   ]
  },
  {
   "cell_type": "markdown",
   "metadata": {},
   "source": [
    "### Ejercicio 3\n",
    "### Crea la siguiente Matriz:\n",
    "![matriz](https://lh3.googleusercontent.com/fife/ALs6j_GHttlkXBpyi9lFO_AcUwaLNObMXj_qpslv3OrLF70ujXWVGzlajoGmUYnFh5kCryp6-Di1u8ufDR41UPZu9r_NcuXCQinRgckhh5uySxu8wLCSE5cySundMpUW70dSn8rHedmMd-ZWfvAR-LSNsuxDbgu6fICF6ABzYVFt8bpm9o7orPgnrrZyM6hKK49_bfBjLjpWwcBVjExLbOaU1W9hvVRNLJFvomOGAGi8LTLxKoZQu2k0LtRDJmpAnpkJC3EHd00UXR7yswY06hP_izou3rT2jyhAK4HaRNya90dl7ZI-UW2BCigyg0wfHXiMb8-b2QymlZYk3hq8b1KlziH-tETkWsU12kw8QLWjcgrf3WJ1-AtqUsCQH2dfm3WQPwAoI0Ax_-OW4EqQzcpdLtZn58pGAD0fccn7eVQDBDno7OYRjw0-SB_LoXmxmSV6qiup4ur2-234B3RhHMSeEiqU4dYo9_xTAYVq1s2nicWdJoFh16fTtsnlnjV2cOzrOI7l5H426Y49tj5IescSt51PeJ7MrUXWywPz0rtxW_mAHYe95gxt8EHgRmYxWUA1XH5NqecKEKZ6eC3v_wS6cTfmLBAxmrZH1PUDDHh-uUFYNrcg3Hwo3eXWr9ABnVOQZaslmeZLPwxBU3uCcO3YbbiKq6SIkSRqxhkzRGiIMXX_uufm6j5OVKEZXcZ3eXYvUVT8KBoObFQAKNqPr0sLtdXG3lEjnYE6BLdBOey_YHHSMHrjnfT-gLBIVXG1QTqVAcuyW4-QpmK820qYeylZ9D9DAPjX4hEvBhkNXCuXKaFlQU84NcFoc2TPw14TNig4JSt9kw_m0tS9NGlIz-LYmIazJaAYZRm2PN-WpZecKyaZkCP-rgV_1yYC4hsq07XIWzjimSbVxmZuGy9oE_moqVrwOT7w1JPHAvFoj3kadtmSL699jlIHNvKEUEkPX-dgp_2IY1bA5CdbntmRMfCRxeFRuyDMz2Qbqwszk0tegtVHaoXwKWpVMTKD5A45W0Vbrmcd5mtrZiHorllQyTPFGbdDfKozIKnxKfNVh9_LZxI-FopdoUp35AgrKGMxE4DbDShY-BzKTuYOTdkHIRxVvWCxnEZZgPgbaZfjfgVpG5vWwa42dBcybIvmx8lrUZ2q3GQSHx6v9noLXx79f3196123mv0BbT7NLwHrd58V6bFBgea7BgISzQ2vMeFmUcvBnaeoA535cYLrsziBTHu0pLqjZbfRaGIsovEwbMvoa6BLJ7UmdBCO_Ko4MrRs2nJ5IlLdNeMlaO2Xj0ldCR8V5DjeS9lSf0yAd2ey6JFTBAnykdq6zc3rPqIW6ItuwjSTL6MZNs_zUNeo0i-op_dD_19Da2UNKxqwH_uJXy_O94y0SaF5m_rHIUYMnO4vG8bN_tfM5DCQi6lT0qP32W12fFBFvYjRxmqwEbDyA2WxMm4YbhORJzrMptUyMhB6OOea0CAOLQQ3kg2rtSZbP8NKapZcA5KiceEtuWUxYSVWlQmyJrZNksO6nW4umPpqR_DhwDnE7hN0t0EbFygcbZKpQyPgTn6a-7vl84NjHwj0XJ3SlC-0sTJv50wkUALudZBJKTX_nyAerqwgpIYmkA=w1920-h968)\n"
   ]
  },
  {
   "cell_type": "markdown",
   "metadata": {},
   "source": [
    "#### Muestra el elemento de la fila 2º y la columna 3º. Es el valor del 7."
   ]
  },
  {
   "cell_type": "code",
   "execution_count": 89,
   "metadata": {},
   "outputs": [
    {
     "name": "stdout",
     "output_type": "stream",
     "text": [
      "Matriz: \n",
      " [[1 4 6 5]\n",
      " [4 1 7 3]\n",
      " [2 9 1 2]\n",
      " [6 3 1 1]]\n",
      "Elemento: 7\n"
     ]
    }
   ],
   "source": [
    "matriz3 = np.array([[1,4,6,5],[4,1,7,3],[2,9,1,2],[6,3,1,1]])\n",
    "print(\"Matriz:\",\"\\n\",matriz3)\n",
    "print(\"Elemento:\",matriz3[1,2])"
   ]
  },
  {
   "cell_type": "markdown",
   "metadata": {},
   "source": [
    "#### Muestra la 3º Fila"
   ]
  },
  {
   "cell_type": "code",
   "execution_count": 85,
   "metadata": {},
   "outputs": [
    {
     "name": "stdout",
     "output_type": "stream",
     "text": [
      "Matriz: \n",
      " [[1 4 6 5]\n",
      " [4 1 7 3]\n",
      " [2 9 1 2]\n",
      " [6 3 1 1]]\n",
      "3º Fila matriz: [2 9 1 2]\n"
     ]
    }
   ],
   "source": [
    "matriz3 = np.array([[1,4,6,5],[4,1,7,3],[2,9,1,2],[6,3,1,1]])\n",
    "print(\"Matriz:\",\"\\n\",matriz3)\n",
    "print(\"3º Fila matriz:\",matriz3[2])"
   ]
  },
  {
   "cell_type": "markdown",
   "metadata": {},
   "source": [
    "#### Muestra la 2º Columna"
   ]
  },
  {
   "cell_type": "code",
   "execution_count": 84,
   "metadata": {},
   "outputs": [
    {
     "name": "stdout",
     "output_type": "stream",
     "text": [
      "Matriz: \n",
      " [[1 4 6 5]\n",
      " [4 1 7 3]\n",
      " [2 9 1 2]\n",
      " [6 3 1 1]]\n",
      "2º Columna: [4 1 9 3]\n"
     ]
    }
   ],
   "source": [
    "matriz3 = np.array([[1,4,6,5],[4,1,7,3],[2,9,1,2],[6,3,1,1]])\n",
    "print(\"Matriz:\",\"\\n\",matriz3)\n",
    "print(\"2º Columna:\",matriz3[:,1])"
   ]
  },
  {
   "cell_type": "markdown",
   "metadata": {},
   "source": [
    "#### Muestra la 2º y 3º Columna"
   ]
  },
  {
   "cell_type": "code",
   "execution_count": 81,
   "metadata": {},
   "outputs": [
    {
     "name": "stdout",
     "output_type": "stream",
     "text": [
      "Matriz: \n",
      " [[1 4 6 5]\n",
      " [4 1 7 3]\n",
      " [2 9 1 2]\n",
      " [6 3 1 1]]\n",
      "2º Columna: [4 1 9 3] y 3º Columna: [6 7 1 1]\n"
     ]
    }
   ],
   "source": [
    "matriz3 = np.array([[1,4,6,5],[4,1,7,3],[2,9,1,2],[6,3,1,1]])\n",
    "print(\"Matriz:\",\"\\n\",matriz3)\n",
    "print(\"2º Columna:\",matriz3[:,1],\"y 3º Columna:\",matriz3[:,2])"
   ]
  },
  {
   "cell_type": "markdown",
   "metadata": {},
   "source": [
    "#### Muestra la 2º y 3º Fila"
   ]
  },
  {
   "cell_type": "code",
   "execution_count": 82,
   "metadata": {},
   "outputs": [
    {
     "name": "stdout",
     "output_type": "stream",
     "text": [
      "Matriz: \n",
      " [[1 4 6 5]\n",
      " [4 1 7 3]\n",
      " [2 9 1 2]\n",
      " [6 3 1 1]]\n",
      "2º Fila: [4 1 7 3] 3º Fila: [2 9 1 2]\n",
      "2º y 3º Fila: \n",
      " [[4 1 7 3]\n",
      " [2 9 1 2]]\n"
     ]
    }
   ],
   "source": [
    "matriz3 = np.array([[1,4,6,5],[4,1,7,3],[2,9,1,2],[6,3,1,1]])\n",
    "print(\"Matriz:\",\"\\n\",matriz3)\n",
    "print(\"2º Fila:\",matriz3[1],\"3º Fila:\",matriz3[2])\n",
    "print(\"2º y 3º Fila:\",\"\\n\",matriz3[1:3:1])"
   ]
  },
  {
   "cell_type": "markdown",
   "metadata": {},
   "source": [
    "#### Muestra la última columna. Debe funcionar independientemente del número de columnas."
   ]
  },
  {
   "cell_type": "code",
   "execution_count": 83,
   "metadata": {},
   "outputs": [
    {
     "name": "stdout",
     "output_type": "stream",
     "text": [
      "Matriz: \n",
      " [[1 4 6 5]\n",
      " [4 1 7 3]\n",
      " [2 9 1 2]\n",
      " [6 3 1 1]]\n",
      "Última coluna de la matriz: \n",
      " [5 3 2 1]\n"
     ]
    }
   ],
   "source": [
    "matriz3 = np.array([[1,4,6,5],[4,1,7,3],[2,9,1,2],[6,3,1,1]])\n",
    "print(\"Matriz:\",\"\\n\",matriz3)\n",
    "print(\"Última coluna de la matriz:\",\"\\n\",matriz3[:,-1])"
   ]
  },
  {
   "cell_type": "markdown",
   "metadata": {},
   "source": [
    "#### Muestra la 2º y 4º Columna y la 1º y 3º fila"
   ]
  },
  {
   "cell_type": "code",
   "execution_count": 123,
   "metadata": {},
   "outputs": [
    {
     "name": "stdout",
     "output_type": "stream",
     "text": [
      "Matriz: \n",
      " [[1 4 6 5]\n",
      " [4 1 7 3]\n",
      " [2 9 1 2]\n",
      " [6 3 1 1]]\n",
      "2º y 4º Columna y 1º y 3º Fila: \n",
      " [[4 5]\n",
      " [1 3]\n",
      " [9 2]\n",
      " [3 1]]\n"
     ]
    }
   ],
   "source": [
    "matriz3 = np.array([[1,4,6,5],[4,1,7,3],[2,9,1,2],[6,3,1,1]])\n",
    "print(\"Matriz:\",\"\\n\",matriz3)\n",
    "print(\"2º y 4º Columna y 1º y 3º Fila:\",\"\\n\",matriz3[:,1::2])"
   ]
  },
  {
   "cell_type": "markdown",
   "metadata": {},
   "source": [
    "#### Muestra de la 2º a la 3º Columna y de la 1º a la 3º fila"
   ]
  },
  {
   "cell_type": "code",
   "execution_count": 150,
   "metadata": {},
   "outputs": [
    {
     "name": "stdout",
     "output_type": "stream",
     "text": [
      "Matriz: \n",
      " [[1 4 6 5]\n",
      " [4 1 7 3]\n",
      " [2 9 1 2]\n",
      " [6 3 1 1]]\n",
      "2º - 3º Columna Y 1º - 3 fila: \n",
      " [[1 4 6 5]\n",
      " [4 1 7 3]\n",
      " [2 9 1 2]\n",
      " [6 3 1 1]]\n"
     ]
    }
   ],
   "source": [
    "matriz3 = np.array([[1,4,6,5],[4,1,7,3],[2,9,1,2],[6,3,1,1]])\n",
    "print(\"Matriz:\",\"\\n\",matriz3)\n",
    "#print(\"2º - 3º Columna Y 1º - 3 fila:\",\"\\n\",matriz3[:])"
   ]
  },
  {
   "cell_type": "markdown",
   "metadata": {},
   "source": [
    "#### Muestra todas las columnas excepto la primera y la última. Debe funcionar independientemente del número de columnas."
   ]
  },
  {
   "cell_type": "code",
   "execution_count": null,
   "metadata": {},
   "outputs": [],
   "source": [
    "matriz3 = np.array([[1,4,6,5],[4,1,7,3],[2,9,1,2],[6,3,1,1]])\n",
    "print(\"Matriz:\",\"\\n\",matriz3)"
   ]
  },
  {
   "cell_type": "markdown",
   "metadata": {},
   "source": [
    "#### Muestra todas las filas excepto la primera y la última. Debe funcionar independientemente del número de filas."
   ]
  },
  {
   "cell_type": "code",
   "execution_count": null,
   "metadata": {},
   "outputs": [],
   "source": [
    "matriz3 = np.array([[1,4,6,5],[4,1,7,3],[2,9,1,2],[6,3,1,1]])\n",
    "print(\"Matriz:\",\"\\n\",matriz3)"
   ]
  },
  {
   "cell_type": "markdown",
   "metadata": {},
   "source": [
    "#### Muestra todas las columnas excepto la primera y la última y todas las filas excepto la primera y la última. Debe funcionar independientemente del número de filas y columnas."
   ]
  },
  {
   "cell_type": "code",
   "execution_count": null,
   "metadata": {},
   "outputs": [],
   "source": [
    "matriz3 = np.array([[1,4,6,5],[4,1,7,3],[2,9,1,2],[6,3,1,1]])\n",
    "print(\"Matriz:\",\"\\n\",matriz3)"
   ]
  },
  {
   "cell_type": "markdown",
   "metadata": {},
   "source": [
    "#### Imprime la matriz y haz que las cabeceras de cada columna sean A, B , C y D"
   ]
  },
  {
   "cell_type": "code",
   "execution_count": 147,
   "metadata": {},
   "outputs": [
    {
     "name": "stdout",
     "output_type": "stream",
     "text": [
      "[['A' 'B' 'C' 'D']\n",
      " ['1' '4' '6' '5']\n",
      " ['4' '1' '7' '3']\n",
      " ['2' '9' '1' '2']\n",
      " ['6' '3' '1' '1']]\n"
     ]
    }
   ],
   "source": [
    "matriz3str = np.array([[1,4,6,5],[4,1,7,3],[2,9,1,2],[6,3,1,1]], dtype=str)\n",
    "letras = np.array(['A', 'B', 'C', 'D'], dtype=str)\n",
    "matriz_final = np.vstack((letras, matriz3str))\n",
    "print(matriz_final)"
   ]
  }
 ],
 "metadata": {
  "kernelspec": {
   "display_name": "base",
   "language": "python",
   "name": "python3"
  },
  "language_info": {
   "codemirror_mode": {
    "name": "ipython",
    "version": 3
   },
   "file_extension": ".py",
   "mimetype": "text/x-python",
   "name": "python",
   "nbconvert_exporter": "python",
   "pygments_lexer": "ipython3",
   "version": "3.12.4"
  }
 },
 "nbformat": 4,
 "nbformat_minor": 2
}
