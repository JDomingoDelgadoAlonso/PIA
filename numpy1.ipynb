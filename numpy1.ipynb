{
 "cells": [
  {
   "cell_type": "markdown",
   "metadata": {},
   "source": [
    "## Ejercicios con Numpy"
   ]
  },
  {
   "cell_type": "markdown",
   "metadata": {},
   "source": [
    "### Ejercicio 1. Crea una array de numpy con los siguiente números primos: 2, 3, 5, 7, 11, 13, 17, 19, 23, 29\n",
    "\n",
    "* Muestra el último elemento. Y debes hacerlo sin saber su longitud.\n",
    "* Muestra el 3º elemento\n",
    "* Muestra el último y 3º elemento.\n",
    "* Muestra del 2º al 5º elemento.\n",
    "* Muestra el 2° y el 5° elemento\n",
    "* Muestra el último y el penúltimo elemento. Y debes hacerlo sin saber su longitud.\n"
   ]
  },
  {
   "cell_type": "code",
   "execution_count": 2,
   "metadata": {},
   "outputs": [
    {
     "name": "stdout",
     "output_type": "stream",
     "text": [
      "Ultimo elemento del array: 29\n",
      "Tercer elemento: 5\n",
      "Último y Tercer elemento: 29 y 5\n",
      "Del 2º al 5º elemento:  [ 3  5  7 11]\n",
      "El último y el penúltimo:  29 y 23\n"
     ]
    }
   ],
   "source": [
    "import numpy as np\n",
    "a = np.array([1,3,5,7,11,13,17,19,23,29])\n",
    "print(\"Ultimo elemento del array:\",a[-1])\n",
    "print(\"Tercer elemento:\",a[2])\n",
    "print(\"Último y Tercer elemento:\",a[-1],\"y\",a[2])\n",
    "print(\"Del 2º al 5º elemento: \",a[1:5])\n",
    "print(\"El último y el penúltimo: \",a[-1],\"y\",a[-2])"
   ]
  },
  {
   "cell_type": "markdown",
   "metadata": {},
   "source": [
    "### Ejercicio 2\n",
    "* Crea una array de numpy con los siguiente números primos: 2, 3, 5, 7, 11, 13, 17, 19, 23, 29 pero que el array sea de tipo \"float\" de 32 bits.\n",
    "* Usando la función arange de numpy crea un array con los números del 100 al 200 pero sin incluir el 200. Muestra el resultado.\n",
    "* Usando la función range estándar de Python crea un array con los números del 100 al 200 pero sin incluir el 200. Muestra el resultado. ¿Qué diferencia hay con arange?"
   ]
  },
  {
   "cell_type": "code",
   "execution_count": 3,
   "metadata": {},
   "outputs": [
    {
     "name": "stdout",
     "output_type": "stream",
     "text": [
      "Resultado del array con numpy de numeros del 100 al 200: [100 101 102 103 104 105 106 107 108 109 110 111 112 113 114 115 116 117\n",
      " 118 119 120 121 122 123 124 125 126 127 128 129 130 131 132 133 134 135\n",
      " 136 137 138 139 140 141 142 143 144 145 146 147 148 149 150 151 152 153\n",
      " 154 155 156 157 158 159 160 161 162 163 164 165 166 167 168 169 170 171\n",
      " 172 173 174 175 176 177 178 179 180 181 182 183 184 185 186 187 188 189\n",
      " 190 191 192 193 194 195 196 197 198 199]\n",
      "[100, 101, 102, 103, 104, 105, 106, 107, 108, 109, 110, 111, 112, 113, 114, 115, 116, 117, 118, 119, 120, 121, 122, 123, 124, 125, 126, 127, 128, 129, 130, 131, 132, 133, 134, 135, 136, 137, 138, 139, 140, 141, 142, 143, 144, 145, 146, 147, 148, 149, 150, 151, 152, 153, 154, 155, 156, 157, 158, 159, 160, 161, 162, 163, 164, 165, 166, 167, 168, 169, 170, 171, 172, 173, 174, 175, 176, 177, 178, 179, 180, 181, 182, 183, 184, 185, 186, 187, 188, 189, 190, 191, 192, 193, 194, 195, 196, 197, 198, 199]\n",
      "<class 'numpy.ndarray'>\n",
      "<class 'list'>\n"
     ]
    }
   ],
   "source": [
    "import numpy as np\n",
    "a2 = np.array([2, 3, 5, 7, 11, 13, 17, 19, 23, 29], dtype=np.float32)\n",
    "#a2\n",
    "arang2 = np.arange(100,200)\n",
    "print(\"Resultado del array con numpy de numeros del 100 al 200:\",arang2)\n",
    "rang2py = [*range(100, 200)]\n",
    "print(rang2py)\n",
    "print(type(arang2))\n",
    "print(type(rang2py))\n",
    "#La diferencia como se puede comprobar con el método de python type es que tienen diferente tipo de datos\n",
    "#por lo que estos tendrán métodos diferentes con los que operar y serán eficientes a distinta manera.\n"
   ]
  },
  {
   "attachments": {
    "image.png": {
     "image/png": "[encoded data removed]"
    }
   },
   "cell_type": "markdown",
   "metadata": {},
   "source": [
    "### Ejercicio 3\n",
    "### Crea la siguiente Matriz:\n",
    "![image.png](attachment:image.png)"
   ]
  },
  {
   "cell_type": "markdown",
   "metadata": {},
   "source": [
    "#### Muestra el elemento de la fila 2º y la columna 3º. Es el valor del 7."
   ]
  },
  {
   "cell_type": "code",
   "execution_count": 4,
   "metadata": {},
   "outputs": [
    {
     "name": "stdout",
     "output_type": "stream",
     "text": [
      "Matriz: \n",
      " [[1 4 6 5]\n",
      " [4 1 7 3]\n",
      " [2 9 1 2]\n",
      " [6 3 1 1]]\n",
      "Elemento: 7\n"
     ]
    }
   ],
   "source": [
    "matriz3 = np.array([[1,4,6,5],[4,1,7,3],[2,9,1,2],[6,3,1,1]])\n",
    "print(\"Matriz:\",\"\\n\",matriz3)\n",
    "print(\"Elemento:\",matriz3[1,2])"
   ]
  },
  {
   "cell_type": "markdown",
   "metadata": {},
   "source": [
    "#### Muestra la 3º Fila"
   ]
  },
  {
   "cell_type": "code",
   "execution_count": 5,
   "metadata": {},
   "outputs": [
    {
     "name": "stdout",
     "output_type": "stream",
     "text": [
      "Matriz: \n",
      " [[1 4 6 5]\n",
      " [4 1 7 3]\n",
      " [2 9 1 2]\n",
      " [6 3 1 1]]\n",
      "3º Fila matriz: [2 9 1 2]\n"
     ]
    }
   ],
   "source": [
    "matriz3 = np.array([[1,4,6,5],[4,1,7,3],[2,9,1,2],[6,3,1,1]])\n",
    "print(\"Matriz:\",\"\\n\",matriz3)\n",
    "print(\"3º Fila matriz:\",matriz3[2])"
   ]
  },
  {
   "cell_type": "markdown",
   "metadata": {},
   "source": [
    "#### Muestra la 2º Columna"
   ]
  },
  {
   "cell_type": "code",
   "execution_count": 6,
   "metadata": {},
   "outputs": [
    {
     "name": "stdout",
     "output_type": "stream",
     "text": [
      "Matriz: \n",
      " [[1 4 6 5]\n",
      " [4 1 7 3]\n",
      " [2 9 1 2]\n",
      " [6 3 1 1]]\n",
      "2º Columna: [4 1 9 3]\n"
     ]
    }
   ],
   "source": [
    "matriz3 = np.array([[1,4,6,5],[4,1,7,3],[2,9,1,2],[6,3,1,1]])\n",
    "print(\"Matriz:\",\"\\n\",matriz3)\n",
    "print(\"2º Columna:\",matriz3[:,1])"
   ]
  },
  {
   "cell_type": "markdown",
   "metadata": {},
   "source": [
    "#### Muestra la 2º y 3º Columna"
   ]
  },
  {
   "cell_type": "code",
   "execution_count": 7,
   "metadata": {},
   "outputs": [
    {
     "name": "stdout",
     "output_type": "stream",
     "text": [
      "Matriz: \n",
      " [[1 4 6 5]\n",
      " [4 1 7 3]\n",
      " [2 9 1 2]\n",
      " [6 3 1 1]]\n",
      "2º Columna: [4 1 9 3] y 3º Columna: [6 7 1 1]\n",
      "2º Columna y 3º: [[4 6]\n",
      " [1 7]\n",
      " [9 1]\n",
      " [3 1]]\n"
     ]
    }
   ],
   "source": [
    "matriz3 = np.array([[1,4,6,5],[4,1,7,3],[2,9,1,2],[6,3,1,1]])\n",
    "print(\"Matriz:\",\"\\n\",matriz3)\n",
    "print(\"2º Columna:\",matriz3[:,1],\"y 3º Columna:\",matriz3[:,2])\n",
    "print(\"2º Columna y 3º:\",matriz3[:,1:3])"
   ]
  },
  {
   "cell_type": "markdown",
   "metadata": {},
   "source": [
    "#### Muestra la 2º y 3º Fila"
   ]
  },
  {
   "cell_type": "code",
   "execution_count": 8,
   "metadata": {},
   "outputs": [
    {
     "name": "stdout",
     "output_type": "stream",
     "text": [
      "Matriz: \n",
      " [[1 4 6 5]\n",
      " [4 1 7 3]\n",
      " [2 9 1 2]\n",
      " [6 3 1 1]]\n",
      "2º Fila: [4 1 7 3] 3º Fila: [2 9 1 2]\n",
      "2º y 3º Fila: \n",
      " [[4 1 7 3]\n",
      " [2 9 1 2]]\n"
     ]
    }
   ],
   "source": [
    "matriz3 = np.array([[1,4,6,5],[4,1,7,3],[2,9,1,2],[6,3,1,1]])\n",
    "print(\"Matriz:\",\"\\n\",matriz3)\n",
    "print(\"2º Fila:\",matriz3[1],\"3º Fila:\",matriz3[2])\n",
    "print(\"2º y 3º Fila:\",\"\\n\",matriz3[1:3:1])"
   ]
  },
  {
   "cell_type": "markdown",
   "metadata": {},
   "source": [
    "#### Muestra la última columna. Debe funcionar independientemente del número de columnas."
   ]
  },
  {
   "cell_type": "code",
   "execution_count": 9,
   "metadata": {},
   "outputs": [
    {
     "name": "stdout",
     "output_type": "stream",
     "text": [
      "Matriz: \n",
      " [[1 4 6 5]\n",
      " [4 1 7 3]\n",
      " [2 9 1 2]\n",
      " [6 3 1 1]]\n",
      "Última coluna de la matriz: \n",
      " [5 3 2 1]\n"
     ]
    }
   ],
   "source": [
    "matriz3 = np.array([[1,4,6,5],[4,1,7,3],[2,9,1,2],[6,3,1,1]])\n",
    "print(\"Matriz:\",\"\\n\",matriz3)\n",
    "print(\"Última coluna de la matriz:\",\"\\n\",matriz3[:,-1])"
   ]
  },
  {
   "cell_type": "markdown",
   "metadata": {},
   "source": [
    "#### Muestra la 2º y 4º Columna y la 1º y 3º fila"
   ]
  },
  {
   "cell_type": "code",
   "execution_count": 10,
   "metadata": {},
   "outputs": [
    {
     "name": "stdout",
     "output_type": "stream",
     "text": [
      "Matriz: \n",
      " [[1 4 6 5]\n",
      " [4 1 7 3]\n",
      " [2 9 1 2]\n",
      " [6 3 1 1]]\n",
      "2º y 4º Columna y 1º y 3º Fila: \n",
      " [[4 5]\n",
      " [9 2]]\n"
     ]
    }
   ],
   "source": [
    "matriz3 = np.array([[1,4,6,5],[4,1,7,3],[2,9,1,2],[6,3,1,1]])\n",
    "print(\"Matriz:\",\"\\n\",matriz3)\n",
    "print(\"2º y 4º Columna y 1º y 3º Fila:\",\"\\n\",matriz3[[0, 2], :][:, [1, 3]])"
   ]
  },
  {
   "cell_type": "markdown",
   "metadata": {},
   "source": [
    "#### Muestra de la 2º a la 3º Columna y de la 1º a la 3º fila"
   ]
  },
  {
   "cell_type": "code",
   "execution_count": 11,
   "metadata": {},
   "outputs": [
    {
     "name": "stdout",
     "output_type": "stream",
     "text": [
      "Matriz: \n",
      " [[1 4 6 5]\n",
      " [4 1 7 3]\n",
      " [2 9 1 2]\n",
      " [6 3 1 1]]\n",
      "2º - 3º Columna Y 1º - 3 fila: \n",
      " [[4 6]\n",
      " [9 1]]\n"
     ]
    }
   ],
   "source": [
    "matriz3 = np.array([[1,4,6,5],[4,1,7,3],[2,9,1,2],[6,3,1,1]])\n",
    "print(\"Matriz:\",\"\\n\",matriz3)\n",
    "print(\"2º - 3º Columna Y 1º - 3 fila:\",\"\\n\",matriz3[[0, 2], :][:, [1, 2]])"
   ]
  },
  {
   "cell_type": "markdown",
   "metadata": {},
   "source": [
    "#### Muestra todas las columnas excepto la primera y la última. Debe funcionar independientemente del número de columnas."
   ]
  },
  {
   "cell_type": "code",
   "execution_count": 12,
   "metadata": {},
   "outputs": [
    {
     "name": "stdout",
     "output_type": "stream",
     "text": [
      "Matriz: \n",
      " [[1 4 6 5]\n",
      " [4 1 7 3]\n",
      " [2 9 1 2]\n",
      " [6 3 1 1]\n",
      " [2 9 1 2]]\n",
      "Todas las columnas menos 1º y última: \n",
      " [[4 6]\n",
      " [1 7]\n",
      " [9 1]\n",
      " [3 1]\n",
      " [9 1]]\n"
     ]
    }
   ],
   "source": [
    "matriz3 = np.array([[1,4,6,5],[4,1,7,3],[2,9,1,2],[6,3,1,1],[2,9,1,2]])\n",
    "print(\"Matriz:\",\"\\n\",matriz3)\n",
    "print(\"Todas las columnas menos 1º y última:\",\"\\n\",matriz3[:, 1: -1])"
   ]
  },
  {
   "cell_type": "markdown",
   "metadata": {},
   "source": [
    "#### Muestra todas las filas excepto la primera y la última. Debe funcionar independientemente del número de filas."
   ]
  },
  {
   "cell_type": "code",
   "execution_count": 13,
   "metadata": {},
   "outputs": [
    {
     "name": "stdout",
     "output_type": "stream",
     "text": [
      "Matriz: \n",
      " [[1 4 6 5]\n",
      " [4 1 7 3]\n",
      " [2 9 1 2]\n",
      " [6 3 1 1]]\n",
      "Todas las filas menos 1º y última: \n",
      " [[4 1 7 3]\n",
      " [2 9 1 2]]\n"
     ]
    }
   ],
   "source": [
    "matriz3 = np.array([[1,4,6,5],[4,1,7,3],[2,9,1,2],[6,3,1,1]])\n",
    "print(\"Matriz:\",\"\\n\",matriz3)\n",
    "print(\"Todas las filas menos 1º y última:\",\"\\n\",matriz3[1: -1])"
   ]
  },
  {
   "cell_type": "markdown",
   "metadata": {},
   "source": [
    "#### Muestra todas las columnas excepto la primera y la última y todas las filas excepto la primera y la última. Debe funcionar independientemente del número de filas y columnas."
   ]
  },
  {
   "cell_type": "code",
   "execution_count": 14,
   "metadata": {},
   "outputs": [
    {
     "name": "stdout",
     "output_type": "stream",
     "text": [
      "Matriz: \n",
      " [[1 4 6 5]\n",
      " [4 1 7 3]\n",
      " [2 9 1 2]\n",
      " [6 3 1 1]]\n",
      "Todas las filas y columnas menos 1º y última: \n",
      " [[1 7]\n",
      " [9 1]]\n"
     ]
    }
   ],
   "source": [
    "matriz3 = np.array([[1,4,6,5],[4,1,7,3],[2,9,1,2],[6,3,1,1]])\n",
    "print(\"Matriz:\",\"\\n\",matriz3)\n",
    "print(\"Todas las filas y columnas menos 1º y última:\",\"\\n\",matriz3[1:-1,1:-1])"
   ]
  },
  {
   "cell_type": "markdown",
   "metadata": {},
   "source": [
    "#### Imprime la matriz y haz que las cabeceras de cada columna sean A, B , C y D"
   ]
  },
  {
   "cell_type": "code",
   "execution_count": 15,
   "metadata": {},
   "outputs": [
    {
     "name": "stdout",
     "output_type": "stream",
     "text": [
      "[['A' 'B' 'C' 'D']\n",
      " ['1' '4' '6' '5']\n",
      " ['4' '1' '7' '3']\n",
      " ['2' '9' '1' '2']\n",
      " ['6' '3' '1' '1']]\n"
     ]
    }
   ],
   "source": [
    "matriz3str = np.array([[1,4,6,5],[4,1,7,3],[2,9,1,2],[6,3,1,1]], dtype=str)\n",
    "letras = np.array(['A', 'B', 'C', 'D'], dtype=str)\n",
    "matriz_final = np.vstack((letras, matriz3str))\n",
    "print(matriz_final)"
   ]
  },
  {
   "cell_type": "markdown",
   "metadata": {},
   "source": [
    "### Ejercicio 4\n",
    "#### El siguiente array contiene las temperaturas medias que ha hecho en Valencia en cada mes [10.2, 10.7, 13.3, 15.8, 19.3, 23.6, 26, 25.9, 22.8, 19.1, 13.9, 10.8 ]"
   ]
  },
  {
   "cell_type": "markdown",
   "metadata": {},
   "source": [
    "#### Muestra las temperaturas cuyo valor sea mayor que 20"
   ]
  },
  {
   "cell_type": "code",
   "execution_count": 16,
   "metadata": {},
   "outputs": [
    {
     "name": "stdout",
     "output_type": "stream",
     "text": [
      "Todas las Temperaturas: \n",
      " [10.2 10.7 13.3 15.8 19.3 23.6 26.  25.9 22.8 19.1 13.9 10.8]\n",
      "Temperaturas mayor a 20 grados: [23.6 26.  25.9 22.8]\n"
     ]
    }
   ],
   "source": [
    "temperaturas = np.array([10.2, 10.7, 13.3, 15.8, 19.3, 23.6, 26, 25.9, 22.8, 19.1, 13.9, 10.8])\n",
    "print(\"Todas las Temperaturas:\",\"\\n\",temperaturas)\n",
    "mayor20 = temperaturas > 20\n",
    "print(\"Temperaturas mayor a 20 grados:\",temperaturas[mayor20])"
   ]
  },
  {
   "cell_type": "markdown",
   "metadata": {},
   "source": [
    "#### Muestra las temperaturas cuyo valor sea menor que 11"
   ]
  },
  {
   "cell_type": "code",
   "execution_count": 17,
   "metadata": {},
   "outputs": [
    {
     "name": "stdout",
     "output_type": "stream",
     "text": [
      "Todas las Temperaturas: \n",
      " [10.2 10.7 13.3 15.8 19.3 23.6 26.  25.9 22.8 19.1 13.9 10.8]\n",
      "Temperaturas menor a 11 grados: [10.2 10.7 10.8]\n"
     ]
    }
   ],
   "source": [
    "temperaturas = np.array([10.2, 10.7, 13.3, 15.8, 19.3, 23.6, 26, 25.9, 22.8, 19.1, 13.9, 10.8])\n",
    "print(\"Todas las Temperaturas:\",\"\\n\",temperaturas)\n",
    "menor11 = temperaturas < 11\n",
    "print(\"Temperaturas menor a 11 grados:\",temperaturas[menor11])"
   ]
  },
  {
   "cell_type": "markdown",
   "metadata": {},
   "source": [
    "#### Muestra las temperaturas cuyo valor sea mayor que 20 o menor que 11"
   ]
  },
  {
   "cell_type": "code",
   "execution_count": 18,
   "metadata": {},
   "outputs": [
    {
     "name": "stdout",
     "output_type": "stream",
     "text": [
      "Todas las Temperaturas: \n",
      " [10.2 10.7 13.3 15.8 19.3 23.6 26.  25.9 22.8 19.1 13.9 10.8]\n",
      "Temperaturas mayor a 20 y menor a 11 grados: [10.2 10.7 23.6 26.  25.9 22.8 10.8]\n"
     ]
    }
   ],
   "source": [
    "temperaturas = np.array([10.2, 10.7, 13.3, 15.8, 19.3, 23.6, 26, 25.9, 22.8, 19.1, 13.9, 10.8])\n",
    "print(\"Todas las Temperaturas:\",\"\\n\",temperaturas)\n",
    "mayor20menor11 = (temperaturas > 20) | (temperaturas < 11)\n",
    "print(\"Temperaturas mayor a 20 y menor a 11 grados:\",temperaturas[mayor20menor11])"
   ]
  },
  {
   "cell_type": "markdown",
   "metadata": {},
   "source": [
    "### Ejercicio 5\n",
    "#### Carga los datos de un dataset muy utilizado en la ciencia de datos con con el siguiente código:\n",
    "#### from sklearn.datasets import load_iris\n",
    "#### datos=load_iris().data\n",
    "#### resultado=load_iris().target\n",
    "\n"
   ]
  },
  {
   "cell_type": "code",
   "execution_count": 19,
   "metadata": {},
   "outputs": [],
   "source": [
    "from sklearn.datasets import load_iris\n",
    "datos=load_iris().data\n",
    "resultado=load_iris().target"
   ]
  },
  {
   "cell_type": "markdown",
   "metadata": {},
   "source": [
    "#### Crea un array llamado sepal_length con las 99 primeras filas y la 1º columna de la matriz datos."
   ]
  },
  {
   "cell_type": "code",
   "execution_count": 20,
   "metadata": {},
   "outputs": [
    {
     "name": "stdout",
     "output_type": "stream",
     "text": [
      "[5.1 4.9 4.7 4.6 5.  5.4 4.6 5.  4.4 4.9 5.4 4.8 4.8 4.3 5.8 5.7 5.4 5.1\n",
      " 5.7 5.1 5.4 5.1 4.6 5.1 4.8 5.  5.  5.2 5.2 4.7 4.8 5.4 5.2 5.5 4.9 5.\n",
      " 5.5 4.9 4.4 5.1 5.  4.5 4.4 5.  5.1 4.8 5.1 4.6 5.3 5.  7.  6.4 6.9 5.5\n",
      " 6.5 5.7 6.3 4.9 6.6 5.2 5.  5.9 6.  6.1 5.6 6.7 5.6 5.8 6.2 5.6 5.9 6.1\n",
      " 6.3 6.1 6.4 6.6 6.8 6.7 6.  5.7 5.5 5.5 5.8 6.  5.4 6.  6.7 6.3 5.6 5.5\n",
      " 5.5 6.1 5.8 5.  5.6 5.7 5.7 6.2 5.1]\n"
     ]
    }
   ],
   "source": [
    "sepal_length = datos[:99, 0]\n",
    "print(sepal_length)"
   ]
  },
  {
   "cell_type": "markdown",
   "metadata": {},
   "source": [
    "#### Crea un array llamado petal_length con las 99 primeras filas y la 3º columna de la matriz datos."
   ]
  },
  {
   "cell_type": "code",
   "execution_count": 21,
   "metadata": {},
   "outputs": [
    {
     "name": "stdout",
     "output_type": "stream",
     "text": [
      "[1.4 1.4 1.3 1.5 1.4 1.7 1.4 1.5 1.4 1.5 1.5 1.6 1.4 1.1 1.2 1.5 1.3 1.4\n",
      " 1.7 1.5 1.7 1.5 1.  1.7 1.9 1.6 1.6 1.5 1.4 1.6 1.6 1.5 1.5 1.4 1.5 1.2\n",
      " 1.3 1.4 1.3 1.5 1.3 1.3 1.3 1.6 1.9 1.4 1.6 1.4 1.5 1.4 4.7 4.5 4.9 4.\n",
      " 4.6 4.5 4.7 3.3 4.6 3.9 3.5 4.2 4.  4.7 3.6 4.4 4.5 4.1 4.5 3.9 4.8 4.\n",
      " 4.9 4.7 4.3 4.4 4.8 5.  4.5 3.5 3.8 3.7 3.9 5.1 4.5 4.5 4.7 4.4 4.1 4.\n",
      " 4.4 4.6 4.  3.3 4.2 4.2 4.2 4.3 3. ]\n"
     ]
    }
   ],
   "source": [
    "petal_length = datos[:99, 2]\n",
    "print(petal_length)"
   ]
  },
  {
   "cell_type": "markdown",
   "metadata": {},
   "source": [
    "#### Crea un array llamado x juntando las 2 columnas sepal_length y petal_length"
   ]
  },
  {
   "cell_type": "code",
   "execution_count": 37,
   "metadata": {},
   "outputs": [
    {
     "name": "stdout",
     "output_type": "stream",
     "text": [
      "[[5.1 1.4]\n",
      " [4.9 1.4]\n",
      " [4.7 1.3]\n",
      " [4.6 1.5]\n",
      " [5.  1.4]\n",
      " [5.4 1.7]\n",
      " [4.6 1.4]\n",
      " [5.  1.5]\n",
      " [4.4 1.4]\n",
      " [4.9 1.5]\n",
      " [5.4 1.5]\n",
      " [4.8 1.6]\n",
      " [4.8 1.4]\n",
      " [4.3 1.1]\n",
      " [5.8 1.2]\n",
      " [5.7 1.5]\n",
      " [5.4 1.3]\n",
      " [5.1 1.4]\n",
      " [5.7 1.7]\n",
      " [5.1 1.5]\n",
      " [5.4 1.7]\n",
      " [5.1 1.5]\n",
      " [4.6 1. ]\n",
      " [5.1 1.7]\n",
      " [4.8 1.9]\n",
      " [5.  1.6]\n",
      " [5.  1.6]\n",
      " [5.2 1.5]\n",
      " [5.2 1.4]\n",
      " [4.7 1.6]\n",
      " [4.8 1.6]\n",
      " [5.4 1.5]\n",
      " [5.2 1.5]\n",
      " [5.5 1.4]\n",
      " [4.9 1.5]\n",
      " [5.  1.2]\n",
      " [5.5 1.3]\n",
      " [4.9 1.4]\n",
      " [4.4 1.3]\n",
      " [5.1 1.5]\n",
      " [5.  1.3]\n",
      " [4.5 1.3]\n",
      " [4.4 1.3]\n",
      " [5.  1.6]\n",
      " [5.1 1.9]\n",
      " [4.8 1.4]\n",
      " [5.1 1.6]\n",
      " [4.6 1.4]\n",
      " [5.3 1.5]\n",
      " [5.  1.4]\n",
      " [7.  4.7]\n",
      " [6.4 4.5]\n",
      " [6.9 4.9]\n",
      " [5.5 4. ]\n",
      " [6.5 4.6]\n",
      " [5.7 4.5]\n",
      " [6.3 4.7]\n",
      " [4.9 3.3]\n",
      " [6.6 4.6]\n",
      " [5.2 3.9]\n",
      " [5.  3.5]\n",
      " [5.9 4.2]\n",
      " [6.  4. ]\n",
      " [6.1 4.7]\n",
      " [5.6 3.6]\n",
      " [6.7 4.4]\n",
      " [5.6 4.5]\n",
      " [5.8 4.1]\n",
      " [6.2 4.5]\n",
      " [5.6 3.9]\n",
      " [5.9 4.8]\n",
      " [6.1 4. ]\n",
      " [6.3 4.9]\n",
      " [6.1 4.7]\n",
      " [6.4 4.3]\n",
      " [6.6 4.4]\n",
      " [6.8 4.8]\n",
      " [6.7 5. ]\n",
      " [6.  4.5]\n",
      " [5.7 3.5]\n",
      " [5.5 3.8]\n",
      " [5.5 3.7]\n",
      " [5.8 3.9]\n",
      " [6.  5.1]\n",
      " [5.4 4.5]\n",
      " [6.  4.5]\n",
      " [6.7 4.7]\n",
      " [6.3 4.4]\n",
      " [5.6 4.1]\n",
      " [5.5 4. ]\n",
      " [5.5 4.4]\n",
      " [6.1 4.6]\n",
      " [5.8 4. ]\n",
      " [5.  3.3]\n",
      " [5.6 4.2]\n",
      " [5.7 4.2]\n",
      " [5.7 4.2]\n",
      " [6.2 4.3]\n",
      " [5.1 3. ]]\n"
     ]
    }
   ],
   "source": [
    "x = np.column_stack((sepal_length, petal_length))\n",
    "print(x)"
   ]
  },
  {
   "cell_type": "markdown",
   "metadata": {},
   "source": [
    "#### Crea un array llamado y con las 99 primeras filas del vector resultado"
   ]
  },
  {
   "cell_type": "code",
   "execution_count": 25,
   "metadata": {},
   "outputs": [
    {
     "name": "stdout",
     "output_type": "stream",
     "text": [
      "[0 0 0 0 0 0 0 0 0 0 0 0 0 0 0 0 0 0 0 0 0 0 0 0 0 0 0 0 0 0 0 0 0 0 0 0 0\n",
      " 0 0 0 0 0 0 0 0 0 0 0 0 0 1 1 1 1 1 1 1 1 1 1 1 1 1 1 1 1 1 1 1 1 1 1 1 1\n",
      " 1 1 1 1 1 1 1 1 1 1 1 1 1 1 1 1 1 1 1 1 1 1 1 1 1]\n"
     ]
    }
   ],
   "source": [
    "\n",
    "y = resultado[:99]\n",
    "print(y)"
   ]
  },
  {
   "cell_type": "markdown",
   "metadata": {},
   "source": [
    "#### Crea un array llamado x con las 99 primeras filas , la 1º columna y la 3º columna de la matriz datos."
   ]
  },
  {
   "cell_type": "code",
   "execution_count": 36,
   "metadata": {},
   "outputs": [
    {
     "name": "stdout",
     "output_type": "stream",
     "text": [
      "[[5.1 1.4]\n",
      " [4.9 1.4]\n",
      " [4.7 1.3]\n",
      " [4.6 1.5]\n",
      " [5.  1.4]\n",
      " [5.4 1.7]\n",
      " [4.6 1.4]\n",
      " [5.  1.5]\n",
      " [4.4 1.4]\n",
      " [4.9 1.5]\n",
      " [5.4 1.5]\n",
      " [4.8 1.6]\n",
      " [4.8 1.4]\n",
      " [4.3 1.1]\n",
      " [5.8 1.2]\n",
      " [5.7 1.5]\n",
      " [5.4 1.3]\n",
      " [5.1 1.4]\n",
      " [5.7 1.7]\n",
      " [5.1 1.5]\n",
      " [5.4 1.7]\n",
      " [5.1 1.5]\n",
      " [4.6 1. ]\n",
      " [5.1 1.7]\n",
      " [4.8 1.9]\n",
      " [5.  1.6]\n",
      " [5.  1.6]\n",
      " [5.2 1.5]\n",
      " [5.2 1.4]\n",
      " [4.7 1.6]\n",
      " [4.8 1.6]\n",
      " [5.4 1.5]\n",
      " [5.2 1.5]\n",
      " [5.5 1.4]\n",
      " [4.9 1.5]\n",
      " [5.  1.2]\n",
      " [5.5 1.3]\n",
      " [4.9 1.4]\n",
      " [4.4 1.3]\n",
      " [5.1 1.5]\n",
      " [5.  1.3]\n",
      " [4.5 1.3]\n",
      " [4.4 1.3]\n",
      " [5.  1.6]\n",
      " [5.1 1.9]\n",
      " [4.8 1.4]\n",
      " [5.1 1.6]\n",
      " [4.6 1.4]\n",
      " [5.3 1.5]\n",
      " [5.  1.4]\n",
      " [7.  4.7]\n",
      " [6.4 4.5]\n",
      " [6.9 4.9]\n",
      " [5.5 4. ]\n",
      " [6.5 4.6]\n",
      " [5.7 4.5]\n",
      " [6.3 4.7]\n",
      " [4.9 3.3]\n",
      " [6.6 4.6]\n",
      " [5.2 3.9]\n",
      " [5.  3.5]\n",
      " [5.9 4.2]\n",
      " [6.  4. ]\n",
      " [6.1 4.7]\n",
      " [5.6 3.6]\n",
      " [6.7 4.4]\n",
      " [5.6 4.5]\n",
      " [5.8 4.1]\n",
      " [6.2 4.5]\n",
      " [5.6 3.9]\n",
      " [5.9 4.8]\n",
      " [6.1 4. ]\n",
      " [6.3 4.9]\n",
      " [6.1 4.7]\n",
      " [6.4 4.3]\n",
      " [6.6 4.4]\n",
      " [6.8 4.8]\n",
      " [6.7 5. ]\n",
      " [6.  4.5]\n",
      " [5.7 3.5]\n",
      " [5.5 3.8]\n",
      " [5.5 3.7]\n",
      " [5.8 3.9]\n",
      " [6.  5.1]\n",
      " [5.4 4.5]\n",
      " [6.  4.5]\n",
      " [6.7 4.7]\n",
      " [6.3 4.4]\n",
      " [5.6 4.1]\n",
      " [5.5 4. ]\n",
      " [5.5 4.4]\n",
      " [6.1 4.6]\n",
      " [5.8 4. ]\n",
      " [5.  3.3]\n",
      " [5.6 4.2]\n",
      " [5.7 4.2]\n",
      " [5.7 4.2]\n",
      " [6.2 4.3]\n",
      " [5.1 3. ]]\n"
     ]
    }
   ],
   "source": [
    "x = datos[:99, [0, 2]]\n",
    "print(x)"
   ]
  },
  {
   "attachments": {
    "image.png": {
     "image/png": "[encoded data removed]"
    }
   },
   "cell_type": "markdown",
   "metadata": {},
   "source": [
    "### Ejercicio 6\n",
    "#### Selecciona las celdas en rojo oscuro de la siguiente matriz:\n",
    "![image.png](attachment:image.png)"
   ]
  },
  {
   "cell_type": "code",
   "execution_count": null,
   "metadata": {},
   "outputs": [
    {
     "name": "stdout",
     "output_type": "stream",
     "text": [
      "[[0. 0. 0. 0. 0. 0. 0. 0.]\n",
      " [0. 0. 0. 0. 0. 0. 0. 0.]\n",
      " [0. 0. 1. 1. 1. 1. 0. 0.]\n",
      " [0. 0. 1. 1. 1. 1. 0. 0.]\n",
      " [0. 0. 1. 1. 1. 1. 0. 0.]\n",
      " [0. 0. 0. 0. 0. 0. 0. 0.]\n",
      " [0. 0. 0. 0. 0. 0. 0. 0.]]\n"
     ]
    }
   ],
   "source": [
    "inicial = np.zeros((7,8))\n",
    "inicial[2:5, 2:6] = 1\n",
    "print(inicial)\n"
   ]
  },
  {
   "attachments": {
    "image.png": {
     "image/png": "[encoded data removed]"
    }
   },
   "cell_type": "markdown",
   "metadata": {},
   "source": [
    "### Ejercicio 7\n",
    "![image.png](attachment:image.png)"
   ]
  },
  {
   "cell_type": "markdown",
   "metadata": {},
   "source": [
    "#### Selecciona las celdas en rojo oscuro de la siguiente matriz:"
   ]
  },
  {
   "cell_type": "code",
   "execution_count": 59,
   "metadata": {},
   "outputs": [
    {
     "name": "stdout",
     "output_type": "stream",
     "text": [
      "[[[0. 0. 0. 0. 0. 0. 0. 0.]\n",
      "  [0. 0. 0. 0. 0. 0. 0. 0.]\n",
      "  [0. 0. 1. 1. 1. 1. 0. 0.]\n",
      "  [0. 0. 1. 1. 1. 1. 0. 0.]\n",
      "  [0. 0. 1. 1. 1. 1. 0. 0.]\n",
      "  [0. 0. 0. 0. 0. 0. 0. 0.]\n",
      "  [0. 0. 0. 0. 0. 0. 0. 0.]]\n",
      "\n",
      " [[0. 0. 0. 0. 0. 0. 0. 0.]\n",
      "  [0. 0. 0. 0. 0. 0. 0. 0.]\n",
      "  [0. 0. 0. 0. 0. 0. 0. 0.]\n",
      "  [0. 0. 0. 0. 0. 0. 0. 0.]\n",
      "  [0. 0. 0. 0. 0. 0. 0. 0.]\n",
      "  [0. 0. 0. 0. 0. 0. 0. 0.]\n",
      "  [0. 0. 0. 0. 0. 0. 0. 0.]]\n",
      "\n",
      " [[0. 0. 0. 0. 0. 0. 0. 0.]\n",
      "  [0. 0. 0. 0. 0. 0. 0. 0.]\n",
      "  [0. 0. 0. 0. 0. 0. 0. 0.]\n",
      "  [0. 0. 0. 0. 0. 0. 0. 0.]\n",
      "  [0. 0. 0. 0. 0. 0. 0. 0.]\n",
      "  [0. 0. 0. 0. 0. 0. 0. 0.]\n",
      "  [0. 0. 0. 0. 0. 0. 0. 0.]]]\n"
     ]
    }
   ],
   "source": [
    "inicial = np.zeros((3,7,8))\n",
    "inicial[0, 2:5, 2:6] = 1\n",
    "print(inicial)"
   ]
  },
  {
   "cell_type": "markdown",
   "metadata": {},
   "source": [
    "#### Ahora selecciona las celdas en rojo oscuro pero también las verdes y azules que hay por detrás de las rojo oscuro."
   ]
  },
  {
   "cell_type": "code",
   "execution_count": 58,
   "metadata": {},
   "outputs": [
    {
     "name": "stdout",
     "output_type": "stream",
     "text": [
      "[[[0. 0. 0. 0. 0. 0. 0. 0.]\n",
      "  [0. 0. 0. 0. 0. 0. 0. 0.]\n",
      "  [0. 0. 1. 1. 1. 1. 0. 0.]\n",
      "  [0. 0. 1. 1. 1. 1. 0. 0.]\n",
      "  [0. 0. 1. 1. 1. 1. 0. 0.]\n",
      "  [0. 0. 0. 0. 0. 0. 0. 0.]\n",
      "  [0. 0. 0. 0. 0. 0. 0. 0.]]\n",
      "\n",
      " [[0. 0. 0. 0. 0. 0. 0. 0.]\n",
      "  [0. 0. 0. 0. 0. 0. 0. 0.]\n",
      "  [0. 0. 1. 1. 1. 1. 0. 0.]\n",
      "  [0. 0. 1. 1. 1. 1. 0. 0.]\n",
      "  [0. 0. 1. 1. 1. 1. 0. 0.]\n",
      "  [0. 0. 0. 0. 0. 0. 0. 0.]\n",
      "  [0. 0. 0. 0. 0. 0. 0. 0.]]\n",
      "\n",
      " [[0. 0. 0. 0. 0. 0. 0. 0.]\n",
      "  [0. 0. 0. 0. 0. 0. 0. 0.]\n",
      "  [0. 0. 1. 1. 1. 1. 0. 0.]\n",
      "  [0. 0. 1. 1. 1. 1. 0. 0.]\n",
      "  [0. 0. 1. 1. 1. 1. 0. 0.]\n",
      "  [0. 0. 0. 0. 0. 0. 0. 0.]\n",
      "  [0. 0. 0. 0. 0. 0. 0. 0.]]]\n"
     ]
    }
   ],
   "source": [
    "inicial = np.zeros((3,7,8))\n",
    "inicial[:, 2:5, 2:6] = 1\n",
    "print(inicial)"
   ]
  },
  {
   "attachments": {
    "image.png": {
     "image/png": "[encoded data removed]"
    }
   },
   "cell_type": "markdown",
   "metadata": {},
   "source": [
    "### Ejercicio 8\n",
    "#### Crea la siguiente matriz:\n",
    "![image.png](attachment:image.png)"
   ]
  },
  {
   "cell_type": "code",
   "execution_count": 1,
   "metadata": {},
   "outputs": [
    {
     "name": "stdout",
     "output_type": "stream",
     "text": [
      "[[1 4 6 5]\n",
      " [4 1 7 3]\n",
      " [2 9 1 2]\n",
      " [6 3 1 1]]\n"
     ]
    }
   ],
   "source": [
    "import numpy as np\n",
    "matriz8 = np.array([[1,4,6,5],[4,1,7,3],[2,9,1,2],[6,3,1,1]])\n",
    "print(matriz8)"
   ]
  },
  {
   "cell_type": "markdown",
   "metadata": {},
   "source": [
    "#### A todos los elementos de la matriz sumale un 10. Usando las funciones de numpy"
   ]
  },
  {
   "cell_type": "code",
   "execution_count": 2,
   "metadata": {},
   "outputs": [
    {
     "name": "stdout",
     "output_type": "stream",
     "text": [
      "[[11 14 16 15]\n",
      " [14 11 17 13]\n",
      " [12 19 11 12]\n",
      " [16 13 11 11]]\n"
     ]
    }
   ],
   "source": [
    "matriz8 = np.array([[1,4,6,5],[4,1,7,3],[2,9,1,2],[6,3,1,1]])\n",
    "matriz8_masdiez = np.add(matriz8, 10)\n",
    "print(matriz8_masdiez)"
   ]
  },
  {
   "cell_type": "markdown",
   "metadata": {},
   "source": [
    "#### A todos los elementos de la matriz sumale un 10 y divídelos entre 2. Usando las funciones de numpy"
   ]
  },
  {
   "cell_type": "code",
   "execution_count": 5,
   "metadata": {},
   "outputs": [
    {
     "name": "stdout",
     "output_type": "stream",
     "text": [
      "[[5.5 7.  8.  7.5]\n",
      " [7.  5.5 8.5 6.5]\n",
      " [6.  9.5 5.5 6. ]\n",
      " [8.  6.5 5.5 5.5]]\n"
     ]
    }
   ],
   "source": [
    "matriz_dividida = np.divide(matriz8_masdiez, 2)\n",
    "print(matriz_dividida)"
   ]
  },
  {
   "cell_type": "markdown",
   "metadata": {},
   "source": [
    "#### A todos los elementos de la matriz sumale un 10. Usando operadores"
   ]
  },
  {
   "cell_type": "code",
   "execution_count": 3,
   "metadata": {},
   "outputs": [
    {
     "name": "stdout",
     "output_type": "stream",
     "text": [
      "Matriz original: \n",
      " [[1 4 6 5]\n",
      " [4 1 7 3]\n",
      " [2 9 1 2]\n",
      " [6 3 1 1]]\n",
      "Matriz sumada: \n",
      " [[11 14 16 15]\n",
      " [14 11 17 13]\n",
      " [12 19 11 12]\n",
      " [16 13 11 11]]\n"
     ]
    }
   ],
   "source": [
    "matriz8 = np.array([[1,4,6,5],[4,1,7,3],[2,9,1,2],[6,3,1,1]])\n",
    "print(\"Matriz original:\",\"\\n\",matriz8)\n",
    "matrizmas10 = matriz8 + 10\n",
    "print(\"Matriz sumada:\",\"\\n\",matrizmas10)"
   ]
  },
  {
   "cell_type": "markdown",
   "metadata": {},
   "source": [
    "#### A todos los elementos de la matriz sumale un 10 y divídelos entre 2. Usando operadores"
   ]
  },
  {
   "cell_type": "code",
   "execution_count": 4,
   "metadata": {},
   "outputs": [
    {
     "name": "stdout",
     "output_type": "stream",
     "text": [
      "Matriz original: \n",
      " [[1 4 6 5]\n",
      " [4 1 7 3]\n",
      " [2 9 1 2]\n",
      " [6 3 1 1]]\n",
      "Matriz sumada: \n",
      " [[11 14 16 15]\n",
      " [14 11 17 13]\n",
      " [12 19 11 12]\n",
      " [16 13 11 11]]\n",
      "Matriz dividida: \n",
      " [[5.5 7.  8.  7.5]\n",
      " [7.  5.5 8.5 6.5]\n",
      " [6.  9.5 5.5 6. ]\n",
      " [8.  6.5 5.5 5.5]]\n"
     ]
    }
   ],
   "source": [
    "matriz8 = np.array([[1,4,6,5],[4,1,7,3],[2,9,1,2],[6,3,1,1]])\n",
    "print(\"Matriz original:\",\"\\n\",matriz8)\n",
    "matrizmas10 = matriz8 + 10\n",
    "print(\"Matriz sumada:\",\"\\n\",matrizmas10)\n",
    "matrizdividida = matrizmas10 / 2\n",
    "print(\"Matriz dividida:\",\"\\n\",matrizdividida)"
   ]
  },
  {
   "cell_type": "markdown",
   "metadata": {},
   "source": [
    "### Ejercicio 9\n",
    "#### Crea la siguiente matriz:\n",
    "![image.png](data:image/png;base64,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)"
   ]
  },
  {
   "cell_type": "code",
   "execution_count": 6,
   "metadata": {},
   "outputs": [
    {
     "name": "stdout",
     "output_type": "stream",
     "text": [
      "matriz original: \n",
      " [[1 2 3]\n",
      " [4 5 6]\n",
      " [7 8 9]]\n"
     ]
    }
   ],
   "source": [
    "matriz9 = np.array([[1,2,3],[4,5,6],[7,8,9]])\n",
    "print(\"matriz original:\",\"\\n\",matriz9)"
   ]
  },
  {
   "cell_type": "markdown",
   "metadata": {},
   "source": [
    "#### Multiplica cada elemento de la matriz por sí mismo"
   ]
  },
  {
   "cell_type": "code",
   "execution_count": null,
   "metadata": {},
   "outputs": [
    {
     "name": "stdout",
     "output_type": "stream",
     "text": [
      "Multiplica cada elemento: \n",
      " [[ 1  4  9]\n",
      " [16 25 36]\n",
      " [49 64 81]]\n"
     ]
    }
   ],
   "source": [
    "matrizmultiplica = np.multiply(matriz9, matriz9)\n",
    "print(\"Multiplica cada elemento:\",\"\\n\",matrizmultiplica)"
   ]
  },
  {
   "cell_type": "markdown",
   "metadata": {},
   "source": [
    "#### Multiplica la matriz por sí misma"
   ]
  },
  {
   "cell_type": "code",
   "execution_count": 8,
   "metadata": {},
   "outputs": [
    {
     "name": "stdout",
     "output_type": "stream",
     "text": [
      "Matriz multiplicada por si misma: \n",
      " [[ 1  4  9]\n",
      " [16 25 36]\n",
      " [49 64 81]]\n"
     ]
    }
   ],
   "source": [
    "matrizmultiplicada = matriz9 * matriz9\n",
    "print(\"Matriz multiplicada por si misma:\",\"\\n\",matrizmultiplicada)"
   ]
  },
  {
   "cell_type": "markdown",
   "metadata": {},
   "source": [
    "### Ejercicio 10\n",
    "#### Crea una función llamada f que acepte como parámetro el número y que retorne el valor multiplicado por 2 y además que se le sume 1."
   ]
  },
  {
   "cell_type": "code",
   "execution_count": 3,
   "metadata": {},
   "outputs": [
    {
     "name": "stdout",
     "output_type": "stream",
     "text": [
      "Introduzca un número para multiplicarlo por 2 y se le sume 1:\n",
      "7.0\n"
     ]
    }
   ],
   "source": [
    "print(\"Introduzca un número para multiplicarlo por 2 y se le sume 1:\")\n",
    "num = float(input())\n",
    "def f(num):\n",
    "  multiplicacion = np.multiply(num, 2)\n",
    "  return np.add(multiplicacion, 1)\n",
    "resultado = f(num)\n",
    "print(resultado)"
   ]
  },
  {
   "cell_type": "markdown",
   "metadata": {},
   "source": [
    "#### Crea ahora el vector de numpy [1,5,4,7,3,9,8,6] y aplícale la función f"
   ]
  },
  {
   "cell_type": "code",
   "execution_count": 4,
   "metadata": {},
   "outputs": [
    {
     "name": "stdout",
     "output_type": "stream",
     "text": [
      "Resultado de multiplicar el vector  [1 5 4 7 3 9 8 6] por 2 y sumar 1: [ 3 11  9 15  7 19 17 13]\n"
     ]
    }
   ],
   "source": [
    "vector = np.array([1,5,4,7,3,9,8,6])\n",
    "def f(vector):\n",
    "  multiplicacion = np.multiply(vector, 2)\n",
    "  return np.add(multiplicacion, 1)\n",
    "resultado = f(vector)\n",
    "print(\"Resultado de multiplicar el vector \",vector,\"por 2 y sumar 1:\",resultado)"
   ]
  },
  {
   "cell_type": "markdown",
   "metadata": {},
   "source": [
    "### Ejercicio 11\n",
    "#### Crea una función llamada f que acepte como parámetro el número y que retorne lo siguiente:"
   ]
  },
  {
   "cell_type": "code",
   "execution_count": 9,
   "metadata": {},
   "outputs": [
    {
     "name": "stdout",
     "output_type": "stream",
     "text": [
      "Dame un número y te mostraré el valor dependiendo del rango en el que se encuentre:\n",
      "Número original: 3.0 Resultado:  0.0\n"
     ]
    }
   ],
   "source": [
    "print(\"Dame un número y te mostraré el valor dependiendo del rango en el que se encuentre:\")\n",
    "num = float(input())\n",
    "def f(arr):\n",
    "  arr = np.array(arr, ndmin=1)  # el ndmin lo que hace es que sea el array de al menos una dimension\n",
    "  retorno = np.empty(arr.shape)\n",
    "\n",
    "  retorno[arr <= 3] = 0\n",
    "  retorno[(arr > 3) & (arr <= 5)] = 4\n",
    "  retorno[(arr > 5) & (arr <= 6)] = 5\n",
    "  retorno[(arr > 6) & (arr <= 7)] = 6\n",
    "  retorno[(arr > 7) & (arr <= 9)] = 8\n",
    "  retorno[arr > 9] = 10\n",
    "  return retorno\n",
    "\n",
    "resultado = f(num)\n",
    "print(\"Número original:\",num,\"Resultado: \",resultado[0])"
   ]
  },
  {
   "cell_type": "markdown",
   "metadata": {},
   "source": [
    "#### Si es valor está en el rango (-inf,3] que retorne 0"
   ]
  },
  {
   "cell_type": "code",
   "execution_count": 10,
   "metadata": {},
   "outputs": [
    {
     "name": "stdout",
     "output_type": "stream",
     "text": [
      "Número original: 3.0 Resultado:  [0.]\n"
     ]
    }
   ],
   "source": [
    "num = float(input())\n",
    "resultado = f(num)\n",
    "print(\"Número original:\",num,\"Resultado: \",resultado)"
   ]
  },
  {
   "cell_type": "markdown",
   "metadata": {},
   "source": [
    "#### Si es valor está en el rango (3,5] que retorne 4"
   ]
  },
  {
   "cell_type": "code",
   "execution_count": 11,
   "metadata": {},
   "outputs": [
    {
     "name": "stdout",
     "output_type": "stream",
     "text": [
      "Número original: 4.0 Resultado:  [4.]\n"
     ]
    }
   ],
   "source": [
    "num = float(input())\n",
    "resultado = f(num)\n",
    "print(\"Número original:\",num,\"Resultado: \",resultado)"
   ]
  },
  {
   "cell_type": "markdown",
   "metadata": {},
   "source": [
    "#### Si es valor está en el rango (5,6] que retorne 5"
   ]
  },
  {
   "cell_type": "code",
   "execution_count": 12,
   "metadata": {},
   "outputs": [
    {
     "name": "stdout",
     "output_type": "stream",
     "text": [
      "Número original: 5.0 Resultado:  [4.]\n"
     ]
    }
   ],
   "source": [
    "num = float(input())\n",
    "resultado = f(num)\n",
    "print(\"Número original:\",num,\"Resultado: \",resultado)"
   ]
  },
  {
   "cell_type": "markdown",
   "metadata": {},
   "source": [
    "#### Si es valor está en el rango (6,7] que retorne 6"
   ]
  },
  {
   "cell_type": "code",
   "execution_count": 13,
   "metadata": {},
   "outputs": [
    {
     "name": "stdout",
     "output_type": "stream",
     "text": [
      "Número original: 7.0 Resultado:  [6.]\n"
     ]
    }
   ],
   "source": [
    "num = float(input())\n",
    "resultado = f(num)\n",
    "print(\"Número original:\",num,\"Resultado: \",resultado)"
   ]
  },
  {
   "cell_type": "markdown",
   "metadata": {},
   "source": [
    "#### Si es valor está en el rango (7,9] que retorne 8"
   ]
  },
  {
   "cell_type": "code",
   "execution_count": 14,
   "metadata": {},
   "outputs": [
    {
     "name": "stdout",
     "output_type": "stream",
     "text": [
      "Número original: 8.0 Resultado:  [8.]\n"
     ]
    }
   ],
   "source": [
    "num = float(input())\n",
    "resultado = f(num)\n",
    "print(\"Número original:\",num,\"Resultado: \",resultado)"
   ]
  },
  {
   "cell_type": "markdown",
   "metadata": {},
   "source": [
    "#### Si es valor está en el rango (9,+inf) que retorne 10"
   ]
  },
  {
   "cell_type": "code",
   "execution_count": 15,
   "metadata": {},
   "outputs": [
    {
     "name": "stdout",
     "output_type": "stream",
     "text": [
      "Número original: 10.0 Resultado:  [10.]\n"
     ]
    }
   ],
   "source": [
    "num = float(input())\n",
    "resultado = f(num)\n",
    "print(\"Número original:\",num,\"Resultado: \",resultado)"
   ]
  },
  {
   "cell_type": "markdown",
   "metadata": {},
   "source": [
    "#### Crea ahora el vector de numpy [1,5,4,7,3,9,8,6] y aplícale la función f"
   ]
  },
  {
   "cell_type": "code",
   "execution_count": 16,
   "metadata": {},
   "outputs": [
    {
     "name": "stdout",
     "output_type": "stream",
     "text": [
      "Número original: 10.0 Resultado:  [0. 4. 4. 6. 0. 8. 8. 5.]\n"
     ]
    }
   ],
   "source": [
    "vectornumpy = np.array([1,5,4,7,3,9,8,6])\n",
    "resultado = f(vectornumpy)\n",
    "print(\"Número original:\",num,\"Resultado: \",resultado)"
   ]
  },
  {
   "cell_type": "markdown",
   "metadata": {},
   "source": [
    "### Ejercicio 12\n",
    "### Muestra con Numpy el número de dimensiones de los siguientes arrays:"
   ]
  },
  {
   "cell_type": "markdown",
   "metadata": {},
   "source": [
    "#### a=[2, 3, 5, 7, 11, 13, 17, 19, 23, 29, 31, 37]"
   ]
  },
  {
   "cell_type": "code",
   "execution_count": 17,
   "metadata": {},
   "outputs": [
    {
     "name": "stdout",
     "output_type": "stream",
     "text": [
      "El array a, tiene: 1 dimension\n"
     ]
    }
   ],
   "source": [
    "a = np.array([2, 3, 5, 7, 11, 13, 17, 19, 23, 29, 31, 37])\n",
    "print(\"El array a, tiene:\",a.ndim,\"dimension\")"
   ]
  },
  {
   "cell_type": "markdown",
   "metadata": {},
   "source": [
    "#### b=[[2, 3], [5, 7], [11, 13], [17, 19], [23, 29], [31, 37]]"
   ]
  },
  {
   "cell_type": "code",
   "execution_count": 18,
   "metadata": {},
   "outputs": [
    {
     "name": "stdout",
     "output_type": "stream",
     "text": [
      "El array a, tiene: 2 dimensiones\n"
     ]
    }
   ],
   "source": [
    "b= np.array([[2, 3], [5, 7], [11, 13], [17, 19], [23, 29], [31, 37]])\n",
    "print(\"El array a, tiene:\",b.ndim,\"dimensiones\")"
   ]
  },
  {
   "cell_type": "markdown",
   "metadata": {},
   "source": [
    "#### c=[[[2, 3], [5, 7]], [[11, 13], [17, 19]], [[23, 29], [31, 37]]]"
   ]
  },
  {
   "cell_type": "code",
   "execution_count": 19,
   "metadata": {},
   "outputs": [
    {
     "name": "stdout",
     "output_type": "stream",
     "text": [
      "El array a, tiene: 3 dimensiones\n"
     ]
    }
   ],
   "source": [
    "c = np.array([[[2, 3], [5, 7]], [[11, 13], [17, 19]], [[23, 29], [31, 37]]])\n",
    "print(\"El array a, tiene:\",c.ndim,\"dimensiones\")"
   ]
  },
  {
   "cell_type": "markdown",
   "metadata": {},
   "source": [
    "### Ejercicio 13\n",
    "#### Crea una función llamada mostrar_tamanyo que le pasemos un array de numpy y nos imprima el tamaño de cada una de las dimensiones."
   ]
  },
  {
   "cell_type": "code",
   "execution_count": 20,
   "metadata": {},
   "outputs": [],
   "source": [
    "def mostrar_tamanyo(arr):\n",
    "  for i, tam in enumerate(arr.shape):\n",
    "    #print(\"shape\",arr.shape,i+1)\n",
    "    print(\"El tamaño de la dimensión:\",i+1,\"es:\",tam)"
   ]
  },
  {
   "cell_type": "markdown",
   "metadata": {},
   "source": [
    "#### a=[2, 3, 5, 7, 11, 13, 17, 19, 23, 29, 31, 37]"
   ]
  },
  {
   "cell_type": "code",
   "execution_count": 21,
   "metadata": {},
   "outputs": [
    {
     "name": "stdout",
     "output_type": "stream",
     "text": [
      "Array: \n",
      " [ 2  3  5  7 11 13 17 19 23 29 31 37]\n",
      "El tamaño de la dimensión: 1 es: 12\n"
     ]
    }
   ],
   "source": [
    "a = np.array([2, 3, 5, 7, 11, 13, 17, 19, 23, 29, 31, 37])\n",
    "print(\"Array:\",\"\\n\",a)\n",
    "mostrar_tamanyo(a)"
   ]
  },
  {
   "cell_type": "markdown",
   "metadata": {},
   "source": [
    "#### b=[[2, 3], [5, 7], [11, 13], [17, 19], [23, 29], [31, 37]]"
   ]
  },
  {
   "cell_type": "code",
   "execution_count": 22,
   "metadata": {},
   "outputs": [
    {
     "name": "stdout",
     "output_type": "stream",
     "text": [
      "Array: \n",
      " [[ 2  3]\n",
      " [ 5  7]\n",
      " [11 13]\n",
      " [17 19]\n",
      " [23 29]\n",
      " [31 37]]\n",
      "El tamaño de la dimensión: 1 es: 6\n",
      "El tamaño de la dimensión: 2 es: 2\n"
     ]
    }
   ],
   "source": [
    "b = np.array([[2, 3], [5, 7], [11, 13], [17, 19], [23, 29], [31, 37]])\n",
    "print(\"Array:\",\"\\n\",b)\n",
    "mostrar_tamanyo(b)"
   ]
  },
  {
   "cell_type": "markdown",
   "metadata": {},
   "source": [
    "#### c=[[[2, 3], [5, 7]], [[11, 13], [17, 19]], [[23, 29], [31, 37]]]"
   ]
  },
  {
   "cell_type": "code",
   "execution_count": 23,
   "metadata": {},
   "outputs": [
    {
     "name": "stdout",
     "output_type": "stream",
     "text": [
      "Array: \n",
      " [[[ 2  3]\n",
      "  [ 5  7]]\n",
      "\n",
      " [[11 13]\n",
      "  [17 19]]\n",
      "\n",
      " [[23 29]\n",
      "  [31 37]]]\n",
      "El tamaño de la dimensión: 1 es: 3\n",
      "El tamaño de la dimensión: 2 es: 2\n",
      "El tamaño de la dimensión: 3 es: 2\n"
     ]
    }
   ],
   "source": [
    "b = np.array([[[2, 3], [5, 7]], [[11, 13], [17, 19]], [[23, 29], [31, 37]]])\n",
    "print(\"Array:\",\"\\n\",c)\n",
    "mostrar_tamanyo(c)"
   ]
  },
  {
   "cell_type": "markdown",
   "metadata": {},
   "source": [
    "### Ejercicio 14\n",
    "### Muestra con numpy el tipo de datos de los siguientes arrays:"
   ]
  },
  {
   "cell_type": "markdown",
   "metadata": {},
   "source": [
    "#### a=[2, 3, 5]"
   ]
  },
  {
   "cell_type": "code",
   "execution_count": 24,
   "metadata": {},
   "outputs": [
    {
     "name": "stdout",
     "output_type": "stream",
     "text": [
      "El array: [2 3 5] tiene tipos de datos: int64\n"
     ]
    }
   ],
   "source": [
    "a = np.array([2, 3, 5])\n",
    "print(\"El array:\",a,\"tiene tipos de datos:\",a.dtype)"
   ]
  },
  {
   "cell_type": "markdown",
   "metadata": {},
   "source": [
    "#### b=[2.4, 3.2, 5.6]"
   ]
  },
  {
   "cell_type": "code",
   "execution_count": 25,
   "metadata": {},
   "outputs": [
    {
     "name": "stdout",
     "output_type": "stream",
     "text": [
      "El array: [2.4 3.2 5.6] tiene tipos de datos: float64\n"
     ]
    }
   ],
   "source": [
    "b = np.array([2.4, 3.2, 5.6])\n",
    "print(\"El array:\",b,\"tiene tipos de datos:\",b.dtype)"
   ]
  },
  {
   "cell_type": "markdown",
   "metadata": {},
   "source": [
    "#### c=[2, 3, 5.6]"
   ]
  },
  {
   "cell_type": "code",
   "execution_count": 26,
   "metadata": {},
   "outputs": [
    {
     "name": "stdout",
     "output_type": "stream",
     "text": [
      "El array: [2.  3.  5.6] tiene tipos de datos: float64\n"
     ]
    }
   ],
   "source": [
    "c = np.array([2, 3, 5.6])\n",
    "print(\"El array:\",c,\"tiene tipos de datos:\",c.dtype)"
   ]
  },
  {
   "cell_type": "markdown",
   "metadata": {},
   "source": [
    "### Ejercicio 15"
   ]
  },
  {
   "cell_type": "markdown",
   "metadata": {},
   "source": [
    "#### Transforma el siguiente array en 8 bits sin signo y muestra cuánto ocupa en memoria:\n",
    "#### a=np.array([1, -2, 3])"
   ]
  },
  {
   "cell_type": "code",
   "execution_count": 27,
   "metadata": {},
   "outputs": [
    {
     "name": "stdout",
     "output_type": "stream",
     "text": [
      "El array: [ 1 -2  3] tiene originalmente tipos de datos: int64 y ocupa en memoria: 24 bytes\n",
      "El array: [  1 254   3] tiene ahora tipos de datos: uint8 y ocupa en memoria: 3 bytes\n"
     ]
    }
   ],
   "source": [
    "a=np.array([1, -2, 3])\n",
    "print(\"El array:\",a,\"tiene originalmente tipos de datos:\",a.dtype,\"y ocupa en memoria:\",a.nbytes,\"bytes\")\n",
    "a8bits = a.astype(np.uint8)\n",
    "print(\"El array:\",a8bits,\"tiene ahora tipos de datos:\",a8bits.dtype,\"y ocupa en memoria:\",a8bits.nbytes,\"bytes\")"
   ]
  },
  {
   "cell_type": "markdown",
   "metadata": {},
   "source": [
    "#### Transforma el siguiente array en 8 bits sin signo y muestra cuánto ocupa en memoria\n",
    "#### b=np.array([1,254,255])"
   ]
  },
  {
   "cell_type": "code",
   "execution_count": 28,
   "metadata": {},
   "outputs": [
    {
     "name": "stdout",
     "output_type": "stream",
     "text": [
      "El array: [  1 254 255] tiene originalmente tipos de datos: int64 y ocupa en memoria: 24 bytes\n",
      "El array: [  1 254 255] tiene ahora tipos de datos: uint8 y ocupa en memoria: 3 bytes\n"
     ]
    }
   ],
   "source": [
    "a=np.array([1,254,255])\n",
    "print(\"El array:\",a,\"tiene originalmente tipos de datos:\",a.dtype,\"y ocupa en memoria:\",a.nbytes,\"bytes\")\n",
    "a8bits = a.astype(np.uint8)\n",
    "print(\"El array:\",a8bits,\"tiene ahora tipos de datos:\",a8bits.dtype,\"y ocupa en memoria:\",a8bits.nbytes,\"bytes\")"
   ]
  },
  {
   "cell_type": "markdown",
   "metadata": {},
   "source": [
    "#### Transforma el siguiente array en 8 bits con signo y muestra cuánto ocupa en memoria\n",
    "\n",
    "\n",
    "#### b=np.array([1,127,128])"
   ]
  },
  {
   "cell_type": "code",
   "execution_count": 29,
   "metadata": {},
   "outputs": [
    {
     "name": "stdout",
     "output_type": "stream",
     "text": [
      "El array: [   1 -128 -129] tiene originalmente tipos de datos: int64 y ocupa en memoria: 24 bytes\n",
      "El array: [   1 -128  127] tiene ahora tipos de datos: int8 y ocupa en memoria: 3 bytes\n"
     ]
    }
   ],
   "source": [
    "a=np.array([1,-128,-129])\n",
    "print(\"El array:\",a,\"tiene originalmente tipos de datos:\",a.dtype,\"y ocupa en memoria:\",a.nbytes,\"bytes\")\n",
    "a8bits = a.astype(np.int8)\n",
    "print(\"El array:\",a8bits,\"tiene ahora tipos de datos:\",a8bits.dtype,\"y ocupa en memoria:\",a8bits.nbytes,\"bytes\")"
   ]
  },
  {
   "cell_type": "markdown",
   "metadata": {},
   "source": [
    "#### Transforma el siguiente array en float32 y muestra cuánto ocupa en memoria\n",
    "\n",
    "\n",
    "#### b=np.array([1,2,3])"
   ]
  },
  {
   "cell_type": "code",
   "execution_count": 30,
   "metadata": {},
   "outputs": [
    {
     "name": "stdout",
     "output_type": "stream",
     "text": [
      "El array: [   1 -128 -129] tiene originalmente tipos de datos: int64 y ocupa en memoria: 24 bytes\n",
      "El array: [   1. -128. -129.] tiene ahora tipos de datos: float32 y ocupa en memoria: 12 bytes\n"
     ]
    }
   ],
   "source": [
    "a=np.array([1,-128,-129])\n",
    "print(\"El array:\",a,\"tiene originalmente tipos de datos:\",a.dtype,\"y ocupa en memoria:\",a.nbytes,\"bytes\")\n",
    "afloat32 = a.astype(np.float32)\n",
    "print(\"El array:\",afloat32,\"tiene ahora tipos de datos:\",afloat32.dtype,\"y ocupa en memoria:\",afloat32.nbytes,\"bytes\")"
   ]
  },
  {
   "cell_type": "markdown",
   "metadata": {},
   "source": [
    "#### Transforma el siguiente array en int32 y muestra cuánto ocupa en memoria\n",
    "\n",
    "\n",
    "#### b=np.array([1.9,2.01,3.51])"
   ]
  },
  {
   "cell_type": "code",
   "execution_count": 31,
   "metadata": {},
   "outputs": [
    {
     "name": "stdout",
     "output_type": "stream",
     "text": [
      "El array: [1.9  2.01 3.51] tiene originalmente tipos de datos: float64 y ocupa en memoria: 24 bytes\n",
      "El array: [1 2 3] tiene ahora tipos de datos: int32 y ocupa en memoria: 12 bytes\n"
     ]
    }
   ],
   "source": [
    "a=np.array([1.9,2.01,3.51])\n",
    "print(\"El array:\",a,\"tiene originalmente tipos de datos:\",a.dtype,\"y ocupa en memoria:\",a.nbytes,\"bytes\")\n",
    "aint32 = a.astype(np.int32)\n",
    "print(\"El array:\",aint32,\"tiene ahora tipos de datos:\",aint32.dtype,\"y ocupa en memoria:\",aint32.nbytes,\"bytes\")"
   ]
  },
  {
   "cell_type": "markdown",
   "metadata": {},
   "source": [
    "### Ejercicio 16\n",
    "#### En ejercicios anteriores obtuviste para el problema de las flores, una matriz x y un vector y.\n",
    "#### Une los datos en una nueva matriz de forma que cada fila de la nueva matriz contenga los datos de cada fila de la x y el dato correspondiente de la y."
   ]
  },
  {
   "cell_type": "code",
   "execution_count": 32,
   "metadata": {},
   "outputs": [
    {
     "name": "stdout",
     "output_type": "stream",
     "text": [
      "Datos: \n",
      " [[5.1 3.5 1.4 0.2]\n",
      " [4.9 3.  1.4 0.2]\n",
      " [4.7 3.2 1.3 0.2]\n",
      " [4.6 3.1 1.5 0.2]\n",
      " [5.  3.6 1.4 0.2]\n",
      " [5.4 3.9 1.7 0.4]\n",
      " [4.6 3.4 1.4 0.3]\n",
      " [5.  3.4 1.5 0.2]\n",
      " [4.4 2.9 1.4 0.2]\n",
      " [4.9 3.1 1.5 0.1]\n",
      " [5.4 3.7 1.5 0.2]\n",
      " [4.8 3.4 1.6 0.2]\n",
      " [4.8 3.  1.4 0.1]\n",
      " [4.3 3.  1.1 0.1]\n",
      " [5.8 4.  1.2 0.2]\n",
      " [5.7 4.4 1.5 0.4]\n",
      " [5.4 3.9 1.3 0.4]\n",
      " [5.1 3.5 1.4 0.3]\n",
      " [5.7 3.8 1.7 0.3]\n",
      " [5.1 3.8 1.5 0.3]\n",
      " [5.4 3.4 1.7 0.2]\n",
      " [5.1 3.7 1.5 0.4]\n",
      " [4.6 3.6 1.  0.2]\n",
      " [5.1 3.3 1.7 0.5]\n",
      " [4.8 3.4 1.9 0.2]\n",
      " [5.  3.  1.6 0.2]\n",
      " [5.  3.4 1.6 0.4]\n",
      " [5.2 3.5 1.5 0.2]\n",
      " [5.2 3.4 1.4 0.2]\n",
      " [4.7 3.2 1.6 0.2]\n",
      " [4.8 3.1 1.6 0.2]\n",
      " [5.4 3.4 1.5 0.4]\n",
      " [5.2 4.1 1.5 0.1]\n",
      " [5.5 4.2 1.4 0.2]\n",
      " [4.9 3.1 1.5 0.2]\n",
      " [5.  3.2 1.2 0.2]\n",
      " [5.5 3.5 1.3 0.2]\n",
      " [4.9 3.6 1.4 0.1]\n",
      " [4.4 3.  1.3 0.2]\n",
      " [5.1 3.4 1.5 0.2]\n",
      " [5.  3.5 1.3 0.3]\n",
      " [4.5 2.3 1.3 0.3]\n",
      " [4.4 3.2 1.3 0.2]\n",
      " [5.  3.5 1.6 0.6]\n",
      " [5.1 3.8 1.9 0.4]\n",
      " [4.8 3.  1.4 0.3]\n",
      " [5.1 3.8 1.6 0.2]\n",
      " [4.6 3.2 1.4 0.2]\n",
      " [5.3 3.7 1.5 0.2]\n",
      " [5.  3.3 1.4 0.2]\n",
      " [7.  3.2 4.7 1.4]\n",
      " [6.4 3.2 4.5 1.5]\n",
      " [6.9 3.1 4.9 1.5]\n",
      " [5.5 2.3 4.  1.3]\n",
      " [6.5 2.8 4.6 1.5]\n",
      " [5.7 2.8 4.5 1.3]\n",
      " [6.3 3.3 4.7 1.6]\n",
      " [4.9 2.4 3.3 1. ]\n",
      " [6.6 2.9 4.6 1.3]\n",
      " [5.2 2.7 3.9 1.4]\n",
      " [5.  2.  3.5 1. ]\n",
      " [5.9 3.  4.2 1.5]\n",
      " [6.  2.2 4.  1. ]\n",
      " [6.1 2.9 4.7 1.4]\n",
      " [5.6 2.9 3.6 1.3]\n",
      " [6.7 3.1 4.4 1.4]\n",
      " [5.6 3.  4.5 1.5]\n",
      " [5.8 2.7 4.1 1. ]\n",
      " [6.2 2.2 4.5 1.5]\n",
      " [5.6 2.5 3.9 1.1]\n",
      " [5.9 3.2 4.8 1.8]\n",
      " [6.1 2.8 4.  1.3]\n",
      " [6.3 2.5 4.9 1.5]\n",
      " [6.1 2.8 4.7 1.2]\n",
      " [6.4 2.9 4.3 1.3]\n",
      " [6.6 3.  4.4 1.4]\n",
      " [6.8 2.8 4.8 1.4]\n",
      " [6.7 3.  5.  1.7]\n",
      " [6.  2.9 4.5 1.5]\n",
      " [5.7 2.6 3.5 1. ]\n",
      " [5.5 2.4 3.8 1.1]\n",
      " [5.5 2.4 3.7 1. ]\n",
      " [5.8 2.7 3.9 1.2]\n",
      " [6.  2.7 5.1 1.6]\n",
      " [5.4 3.  4.5 1.5]\n",
      " [6.  3.4 4.5 1.6]\n",
      " [6.7 3.1 4.7 1.5]\n",
      " [6.3 2.3 4.4 1.3]\n",
      " [5.6 3.  4.1 1.3]\n",
      " [5.5 2.5 4.  1.3]\n",
      " [5.5 2.6 4.4 1.2]\n",
      " [6.1 3.  4.6 1.4]\n",
      " [5.8 2.6 4.  1.2]\n",
      " [5.  2.3 3.3 1. ]\n",
      " [5.6 2.7 4.2 1.3]\n",
      " [5.7 3.  4.2 1.2]\n",
      " [5.7 2.9 4.2 1.3]\n",
      " [6.2 2.9 4.3 1.3]\n",
      " [5.1 2.5 3.  1.1]\n",
      " [5.7 2.8 4.1 1.3]\n",
      " [6.3 3.3 6.  2.5]\n",
      " [5.8 2.7 5.1 1.9]\n",
      " [7.1 3.  5.9 2.1]\n",
      " [6.3 2.9 5.6 1.8]\n",
      " [6.5 3.  5.8 2.2]\n",
      " [7.6 3.  6.6 2.1]\n",
      " [4.9 2.5 4.5 1.7]\n",
      " [7.3 2.9 6.3 1.8]\n",
      " [6.7 2.5 5.8 1.8]\n",
      " [7.2 3.6 6.1 2.5]\n",
      " [6.5 3.2 5.1 2. ]\n",
      " [6.4 2.7 5.3 1.9]\n",
      " [6.8 3.  5.5 2.1]\n",
      " [5.7 2.5 5.  2. ]\n",
      " [5.8 2.8 5.1 2.4]\n",
      " [6.4 3.2 5.3 2.3]\n",
      " [6.5 3.  5.5 1.8]\n",
      " [7.7 3.8 6.7 2.2]\n",
      " [7.7 2.6 6.9 2.3]\n",
      " [6.  2.2 5.  1.5]\n",
      " [6.9 3.2 5.7 2.3]\n",
      " [5.6 2.8 4.9 2. ]\n",
      " [7.7 2.8 6.7 2. ]\n",
      " [6.3 2.7 4.9 1.8]\n",
      " [6.7 3.3 5.7 2.1]\n",
      " [7.2 3.2 6.  1.8]\n",
      " [6.2 2.8 4.8 1.8]\n",
      " [6.1 3.  4.9 1.8]\n",
      " [6.4 2.8 5.6 2.1]\n",
      " [7.2 3.  5.8 1.6]\n",
      " [7.4 2.8 6.1 1.9]\n",
      " [7.9 3.8 6.4 2. ]\n",
      " [6.4 2.8 5.6 2.2]\n",
      " [6.3 2.8 5.1 1.5]\n",
      " [6.1 2.6 5.6 1.4]\n",
      " [7.7 3.  6.1 2.3]\n",
      " [6.3 3.4 5.6 2.4]\n",
      " [6.4 3.1 5.5 1.8]\n",
      " [6.  3.  4.8 1.8]\n",
      " [6.9 3.1 5.4 2.1]\n",
      " [6.7 3.1 5.6 2.4]\n",
      " [6.9 3.1 5.1 2.3]\n",
      " [5.8 2.7 5.1 1.9]\n",
      " [6.8 3.2 5.9 2.3]\n",
      " [6.7 3.3 5.7 2.5]\n",
      " [6.7 3.  5.2 2.3]\n",
      " [6.3 2.5 5.  1.9]\n",
      " [6.5 3.  5.2 2. ]\n",
      " [6.2 3.4 5.4 2.3]\n",
      " [5.9 3.  5.1 1.8]]\n",
      "Resultados: \n",
      " [[0 0 0 0 0 0 0 0 0 0 0 0 0 0 0 0 0 0 0 0 0 0 0 0 0 0 0 0 0 0 0 0 0 0 0 0\n",
      "  0 0 0 0 0 0 0 0 0 0 0 0 0 0 1 1 1 1 1 1 1 1 1 1 1 1 1 1 1 1 1 1 1 1 1 1\n",
      "  1 1 1 1 1 1 1 1 1 1 1 1 1 1 1 1 1 1 1 1 1 1 1 1 1 1 1 1 2 2 2 2 2 2 2 2\n",
      "  2 2 2 2 2 2 2 2 2 2 2 2 2 2 2 2 2 2 2 2 2 2 2 2 2 2 2 2 2 2 2 2 2 2 2 2\n",
      "  2 2 2 2 2 2]]\n",
      "Matriz combinada: \n",
      " [[[5.1 3.5 1.4 0.2 0. ]\n",
      "  [4.9 3.  1.4 0.2 0. ]\n",
      "  [4.7 3.2 1.3 0.2 0. ]\n",
      "  [4.6 3.1 1.5 0.2 0. ]\n",
      "  [5.  3.6 1.4 0.2 0. ]\n",
      "  [5.4 3.9 1.7 0.4 0. ]\n",
      "  [4.6 3.4 1.4 0.3 0. ]\n",
      "  [5.  3.4 1.5 0.2 0. ]\n",
      "  [4.4 2.9 1.4 0.2 0. ]\n",
      "  [4.9 3.1 1.5 0.1 0. ]\n",
      "  [5.4 3.7 1.5 0.2 0. ]\n",
      "  [4.8 3.4 1.6 0.2 0. ]\n",
      "  [4.8 3.  1.4 0.1 0. ]\n",
      "  [4.3 3.  1.1 0.1 0. ]\n",
      "  [5.8 4.  1.2 0.2 0. ]\n",
      "  [5.7 4.4 1.5 0.4 0. ]\n",
      "  [5.4 3.9 1.3 0.4 0. ]\n",
      "  [5.1 3.5 1.4 0.3 0. ]\n",
      "  [5.7 3.8 1.7 0.3 0. ]\n",
      "  [5.1 3.8 1.5 0.3 0. ]\n",
      "  [5.4 3.4 1.7 0.2 0. ]\n",
      "  [5.1 3.7 1.5 0.4 0. ]\n",
      "  [4.6 3.6 1.  0.2 0. ]\n",
      "  [5.1 3.3 1.7 0.5 0. ]\n",
      "  [4.8 3.4 1.9 0.2 0. ]\n",
      "  [5.  3.  1.6 0.2 0. ]\n",
      "  [5.  3.4 1.6 0.4 0. ]\n",
      "  [5.2 3.5 1.5 0.2 0. ]\n",
      "  [5.2 3.4 1.4 0.2 0. ]\n",
      "  [4.7 3.2 1.6 0.2 0. ]\n",
      "  [4.8 3.1 1.6 0.2 0. ]\n",
      "  [5.4 3.4 1.5 0.4 0. ]\n",
      "  [5.2 4.1 1.5 0.1 0. ]\n",
      "  [5.5 4.2 1.4 0.2 0. ]\n",
      "  [4.9 3.1 1.5 0.2 0. ]\n",
      "  [5.  3.2 1.2 0.2 0. ]\n",
      "  [5.5 3.5 1.3 0.2 0. ]\n",
      "  [4.9 3.6 1.4 0.1 0. ]\n",
      "  [4.4 3.  1.3 0.2 0. ]\n",
      "  [5.1 3.4 1.5 0.2 0. ]\n",
      "  [5.  3.5 1.3 0.3 0. ]\n",
      "  [4.5 2.3 1.3 0.3 0. ]\n",
      "  [4.4 3.2 1.3 0.2 0. ]\n",
      "  [5.  3.5 1.6 0.6 0. ]\n",
      "  [5.1 3.8 1.9 0.4 0. ]\n",
      "  [4.8 3.  1.4 0.3 0. ]\n",
      "  [5.1 3.8 1.6 0.2 0. ]\n",
      "  [4.6 3.2 1.4 0.2 0. ]\n",
      "  [5.3 3.7 1.5 0.2 0. ]\n",
      "  [5.  3.3 1.4 0.2 0. ]\n",
      "  [7.  3.2 4.7 1.4 1. ]\n",
      "  [6.4 3.2 4.5 1.5 1. ]\n",
      "  [6.9 3.1 4.9 1.5 1. ]\n",
      "  [5.5 2.3 4.  1.3 1. ]\n",
      "  [6.5 2.8 4.6 1.5 1. ]\n",
      "  [5.7 2.8 4.5 1.3 1. ]\n",
      "  [6.3 3.3 4.7 1.6 1. ]\n",
      "  [4.9 2.4 3.3 1.  1. ]\n",
      "  [6.6 2.9 4.6 1.3 1. ]\n",
      "  [5.2 2.7 3.9 1.4 1. ]\n",
      "  [5.  2.  3.5 1.  1. ]\n",
      "  [5.9 3.  4.2 1.5 1. ]\n",
      "  [6.  2.2 4.  1.  1. ]\n",
      "  [6.1 2.9 4.7 1.4 1. ]\n",
      "  [5.6 2.9 3.6 1.3 1. ]\n",
      "  [6.7 3.1 4.4 1.4 1. ]\n",
      "  [5.6 3.  4.5 1.5 1. ]\n",
      "  [5.8 2.7 4.1 1.  1. ]\n",
      "  [6.2 2.2 4.5 1.5 1. ]\n",
      "  [5.6 2.5 3.9 1.1 1. ]\n",
      "  [5.9 3.2 4.8 1.8 1. ]\n",
      "  [6.1 2.8 4.  1.3 1. ]\n",
      "  [6.3 2.5 4.9 1.5 1. ]\n",
      "  [6.1 2.8 4.7 1.2 1. ]\n",
      "  [6.4 2.9 4.3 1.3 1. ]\n",
      "  [6.6 3.  4.4 1.4 1. ]\n",
      "  [6.8 2.8 4.8 1.4 1. ]\n",
      "  [6.7 3.  5.  1.7 1. ]\n",
      "  [6.  2.9 4.5 1.5 1. ]\n",
      "  [5.7 2.6 3.5 1.  1. ]\n",
      "  [5.5 2.4 3.8 1.1 1. ]\n",
      "  [5.5 2.4 3.7 1.  1. ]\n",
      "  [5.8 2.7 3.9 1.2 1. ]\n",
      "  [6.  2.7 5.1 1.6 1. ]\n",
      "  [5.4 3.  4.5 1.5 1. ]\n",
      "  [6.  3.4 4.5 1.6 1. ]\n",
      "  [6.7 3.1 4.7 1.5 1. ]\n",
      "  [6.3 2.3 4.4 1.3 1. ]\n",
      "  [5.6 3.  4.1 1.3 1. ]\n",
      "  [5.5 2.5 4.  1.3 1. ]\n",
      "  [5.5 2.6 4.4 1.2 1. ]\n",
      "  [6.1 3.  4.6 1.4 1. ]\n",
      "  [5.8 2.6 4.  1.2 1. ]\n",
      "  [5.  2.3 3.3 1.  1. ]\n",
      "  [5.6 2.7 4.2 1.3 1. ]\n",
      "  [5.7 3.  4.2 1.2 1. ]\n",
      "  [5.7 2.9 4.2 1.3 1. ]\n",
      "  [6.2 2.9 4.3 1.3 1. ]\n",
      "  [5.1 2.5 3.  1.1 1. ]\n",
      "  [5.7 2.8 4.1 1.3 1. ]\n",
      "  [6.3 3.3 6.  2.5 2. ]\n",
      "  [5.8 2.7 5.1 1.9 2. ]\n",
      "  [7.1 3.  5.9 2.1 2. ]\n",
      "  [6.3 2.9 5.6 1.8 2. ]\n",
      "  [6.5 3.  5.8 2.2 2. ]\n",
      "  [7.6 3.  6.6 2.1 2. ]\n",
      "  [4.9 2.5 4.5 1.7 2. ]\n",
      "  [7.3 2.9 6.3 1.8 2. ]\n",
      "  [6.7 2.5 5.8 1.8 2. ]\n",
      "  [7.2 3.6 6.1 2.5 2. ]\n",
      "  [6.5 3.2 5.1 2.  2. ]\n",
      "  [6.4 2.7 5.3 1.9 2. ]\n",
      "  [6.8 3.  5.5 2.1 2. ]\n",
      "  [5.7 2.5 5.  2.  2. ]\n",
      "  [5.8 2.8 5.1 2.4 2. ]\n",
      "  [6.4 3.2 5.3 2.3 2. ]\n",
      "  [6.5 3.  5.5 1.8 2. ]\n",
      "  [7.7 3.8 6.7 2.2 2. ]\n",
      "  [7.7 2.6 6.9 2.3 2. ]\n",
      "  [6.  2.2 5.  1.5 2. ]\n",
      "  [6.9 3.2 5.7 2.3 2. ]\n",
      "  [5.6 2.8 4.9 2.  2. ]\n",
      "  [7.7 2.8 6.7 2.  2. ]\n",
      "  [6.3 2.7 4.9 1.8 2. ]\n",
      "  [6.7 3.3 5.7 2.1 2. ]\n",
      "  [7.2 3.2 6.  1.8 2. ]\n",
      "  [6.2 2.8 4.8 1.8 2. ]\n",
      "  [6.1 3.  4.9 1.8 2. ]\n",
      "  [6.4 2.8 5.6 2.1 2. ]\n",
      "  [7.2 3.  5.8 1.6 2. ]\n",
      "  [7.4 2.8 6.1 1.9 2. ]\n",
      "  [7.9 3.8 6.4 2.  2. ]\n",
      "  [6.4 2.8 5.6 2.2 2. ]\n",
      "  [6.3 2.8 5.1 1.5 2. ]\n",
      "  [6.1 2.6 5.6 1.4 2. ]\n",
      "  [7.7 3.  6.1 2.3 2. ]\n",
      "  [6.3 3.4 5.6 2.4 2. ]\n",
      "  [6.4 3.1 5.5 1.8 2. ]\n",
      "  [6.  3.  4.8 1.8 2. ]\n",
      "  [6.9 3.1 5.4 2.1 2. ]\n",
      "  [6.7 3.1 5.6 2.4 2. ]\n",
      "  [6.9 3.1 5.1 2.3 2. ]\n",
      "  [5.8 2.7 5.1 1.9 2. ]\n",
      "  [6.8 3.2 5.9 2.3 2. ]\n",
      "  [6.7 3.3 5.7 2.5 2. ]\n",
      "  [6.7 3.  5.2 2.3 2. ]\n",
      "  [6.3 2.5 5.  1.9 2. ]\n",
      "  [6.5 3.  5.2 2.  2. ]\n",
      "  [6.2 3.4 5.4 2.3 2. ]\n",
      "  [5.9 3.  5.1 1.8 2. ]]]\n"
     ]
    }
   ],
   "source": [
    "from sklearn.datasets import load_iris\n",
    "datos=load_iris().data\n",
    "resultado=load_iris().target\n",
    "mdatos = np.array([datos])\n",
    "mresultados = np.array([resultado])\n",
    "print(\"Datos:\",\"\\n\",datos)\n",
    "print(\"Resultados:\",\"\\n\",mresultados)\n",
    "#print(mdatos.shape) (1, 150, 4)\n",
    "#print(mresultados.shape) (1, 150)\n",
    "mresultados_res = mresultados.reshape(1,150,1)\n",
    "#print(mresultados_res)\n",
    "mcombinada = np.concatenate((mdatos, mresultados_res), axis=2)\n",
    "print(\"Matriz combinada:\",\"\\n\",mcombinada)"
   ]
  }
 ],
 "metadata": {
  "kernelspec": {
   "display_name": "Python 3",
   "language": "python",
   "name": "python3"
  },
  "language_info": {
   "codemirror_mode": {
    "name": "ipython",
    "version": 3
   },
   "file_extension": ".py",
   "mimetype": "text/x-python",
   "name": "python",
   "nbconvert_exporter": "python",
   "pygments_lexer": "ipython3",
   "version": "3.12.3"
  }
 },
 "nbformat": 4,
 "nbformat_minor": 2
}
