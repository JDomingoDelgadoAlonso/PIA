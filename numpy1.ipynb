{
 "cells": [
  {
   "cell_type": "markdown",
   "metadata": {},
   "source": [
    "## Ejercicios con Numpy"
   ]
  },
  {
   "cell_type": "markdown",
   "metadata": {},
   "source": [
    "### 1. Crea una array de numpy con los siguiente números primos: 2, 3, 5, 7, 11, 13, 17, 19, 23, 29\n",
    "\n",
    "* Muestra el último elemento. Y debes hacerlo sin saber su longitud.\n",
    "* Muestra el 3º elemento\n",
    "* Muestra el último y 3º elemento.\n",
    "* Muestra del 2º al 5º elemento.\n",
    "* Muestra el 2° y el 5° elemento\n",
    "* Muestra el último y el penúltimo elemento. Y debes hacerlo sin saber su longitud.\n"
   ]
  },
  {
   "cell_type": "code",
   "execution_count": 15,
   "metadata": {},
   "outputs": [
    {
     "name": "stdout",
     "output_type": "stream",
     "text": [
      "Ultimo elemento del array: 29\n",
      "Tercer elemento: 5\n",
      "Último y Tercer elemento: 29 y 5\n",
      "Del 2º al 5º elemento:  [ 3  5  7 11]\n",
      "El último y el penúltimo:  29 y 23\n"
     ]
    }
   ],
   "source": [
    "import numpy as np\n",
    "a = np.array([1,3,5,7,11,13,17,19,23,29])\n",
    "print(\"Ultimo elemento del array:\",a[-1])\n",
    "print(\"Tercer elemento:\",a[2])\n",
    "print(\"Último y Tercer elemento:\",a[-1],\"y\",a[2])\n",
    "print(\"Del 2º al 5º elemento: \",a[1:5])\n",
    "print(\"El último y el penúltimo: \",a[-1],\"y\",a[-2])"
   ]
  },
  {
   "cell_type": "markdown",
   "metadata": {},
   "source": [
    "## Ejercicio 2\n",
    "* Crea una array de numpy con los siguiente números primos: 2, 3, 5, 7, 11, 13, 17, 19, 23, 29 pero que el array sea de tipo \"float\" de 32 bits.\n",
    "* Usando la función arange de numpy crea un array con los números del 100 al 200 pero sin incluir el 200. Muestra el resultado.\n",
    "* Usando la función range estándar de Python crea un array con los números del 100 al 200 pero sin incluir el 200. Muestra el resultado. ¿Qué diferencia hay con arange?"
   ]
  },
  {
   "cell_type": "code",
   "execution_count": 16,
   "metadata": {},
   "outputs": [
    {
     "ename": "TypeError",
     "evalue": "Cannot interpret '32.0' as a data type",
     "output_type": "error",
     "traceback": [
      "\u001b[0;31m---------------------------------------------------------------------------\u001b[0m",
      "\u001b[0;31mTypeError\u001b[0m                                 Traceback (most recent call last)",
      "Cell \u001b[0;32mIn[16], line 2\u001b[0m\n\u001b[1;32m      1\u001b[0m \u001b[38;5;28;01mimport\u001b[39;00m \u001b[38;5;21;01mnumpy\u001b[39;00m \u001b[38;5;28;01mas\u001b[39;00m \u001b[38;5;21;01mnp\u001b[39;00m\n\u001b[0;32m----> 2\u001b[0m a2 \u001b[38;5;241m=\u001b[39m np\u001b[38;5;241m.\u001b[39marray([\u001b[38;5;241m2\u001b[39m, \u001b[38;5;241m3\u001b[39m, \u001b[38;5;241m5\u001b[39m, \u001b[38;5;241m7\u001b[39m, \u001b[38;5;241m11\u001b[39m, \u001b[38;5;241m13\u001b[39m, \u001b[38;5;241m17\u001b[39m, \u001b[38;5;241m19\u001b[39m, \u001b[38;5;241m23\u001b[39m, \u001b[38;5;241m29\u001b[39m],dtype\u001b[38;5;241m=\u001b[39m\u001b[38;5;28mfloat\u001b[39m(\u001b[38;5;241m32\u001b[39m))\n\u001b[1;32m      3\u001b[0m a2\n",
      "\u001b[0;31mTypeError\u001b[0m: Cannot interpret '32.0' as a data type"
     ]
    }
   ],
   "source": [
    "import numpy as np\n",
    "a2 = np.array([2, 3, 5, 7, 11, 13, 17, 19, 23, 29],dtype())\n",
    "a2"
   ]
  }
 ],
 "metadata": {
  "kernelspec": {
   "display_name": "base",
   "language": "python",
   "name": "python3"
  },
  "language_info": {
   "codemirror_mode": {
    "name": "ipython",
    "version": 3
   },
   "file_extension": ".py",
   "mimetype": "text/x-python",
   "name": "python",
   "nbconvert_exporter": "python",
   "pygments_lexer": "ipython3",
   "version": "3.12.4"
  }
 },
 "nbformat": 4,
 "nbformat_minor": 2
}
