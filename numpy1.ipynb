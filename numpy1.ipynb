{
 "cells": [
  {
   "cell_type": "markdown",
   "metadata": {},
   "source": [
    "## Ejercicios con Numpy"
   ]
  },
  {
   "cell_type": "markdown",
   "metadata": {},
   "source": [
    "### Ejercicio 1. Crea una array de numpy con los siguiente números primos: 2, 3, 5, 7, 11, 13, 17, 19, 23, 29\n",
    "\n",
    "* Muestra el último elemento. Y debes hacerlo sin saber su longitud.\n",
    "* Muestra el 3º elemento\n",
    "* Muestra el último y 3º elemento.\n",
    "* Muestra del 2º al 5º elemento.\n",
    "* Muestra el 2° y el 5° elemento\n",
    "* Muestra el último y el penúltimo elemento. Y debes hacerlo sin saber su longitud.\n"
   ]
  },
  {
   "cell_type": "code",
   "execution_count": 2,
   "metadata": {},
   "outputs": [
    {
     "name": "stdout",
     "output_type": "stream",
     "text": [
      "Ultimo elemento del array: 29\n",
      "Tercer elemento: 5\n",
      "Último y Tercer elemento: 29 y 5\n",
      "Del 2º al 5º elemento:  [ 3  5  7 11]\n",
      "El último y el penúltimo:  29 y 23\n"
     ]
    }
   ],
   "source": [
    "import numpy as np\n",
    "a = np.array([1,3,5,7,11,13,17,19,23,29])\n",
    "print(\"Ultimo elemento del array:\",a[-1])\n",
    "print(\"Tercer elemento:\",a[2])\n",
    "print(\"Último y Tercer elemento:\",a[-1],\"y\",a[2])\n",
    "print(\"Del 2º al 5º elemento: \",a[1:5])\n",
    "print(\"El último y el penúltimo: \",a[-1],\"y\",a[-2])"
   ]
  },
  {
   "cell_type": "markdown",
   "metadata": {},
   "source": [
    "### Ejercicio 2\n",
    "* Crea una array de numpy con los siguiente números primos: 2, 3, 5, 7, 11, 13, 17, 19, 23, 29 pero que el array sea de tipo \"float\" de 32 bits.\n",
    "* Usando la función arange de numpy crea un array con los números del 100 al 200 pero sin incluir el 200. Muestra el resultado.\n",
    "* Usando la función range estándar de Python crea un array con los números del 100 al 200 pero sin incluir el 200. Muestra el resultado. ¿Qué diferencia hay con arange?"
   ]
  },
  {
   "cell_type": "code",
   "execution_count": 35,
   "metadata": {},
   "outputs": [
    {
     "name": "stdout",
     "output_type": "stream",
     "text": [
      "Resultado del array con numpy de numeros del 100 al 200: [100 101 102 103 104 105 106 107 108 109 110 111 112 113 114 115 116 117\n",
      " 118 119 120 121 122 123 124 125 126 127 128 129 130 131 132 133 134 135\n",
      " 136 137 138 139 140 141 142 143 144 145 146 147 148 149 150 151 152 153\n",
      " 154 155 156 157 158 159 160 161 162 163 164 165 166 167 168 169 170 171\n",
      " 172 173 174 175 176 177 178 179 180 181 182 183 184 185 186 187 188 189\n",
      " 190 191 192 193 194 195 196 197 198 199]\n",
      "[100, 101, 102, 103, 104, 105, 106, 107, 108, 109, 110, 111, 112, 113, 114, 115, 116, 117, 118, 119, 120, 121, 122, 123, 124, 125, 126, 127, 128, 129, 130, 131, 132, 133, 134, 135, 136, 137, 138, 139, 140, 141, 142, 143, 144, 145, 146, 147, 148, 149, 150, 151, 152, 153, 154, 155, 156, 157, 158, 159, 160, 161, 162, 163, 164, 165, 166, 167, 168, 169, 170, 171, 172, 173, 174, 175, 176, 177, 178, 179, 180, 181, 182, 183, 184, 185, 186, 187, 188, 189, 190, 191, 192, 193, 194, 195, 196, 197, 198, 199]\n",
      "<class 'numpy.ndarray'>\n",
      "<class 'list'>\n"
     ]
    }
   ],
   "source": [
    "import numpy as np\n",
    "a2 = np.array([2, 3, 5, 7, 11, 13, 17, 19, 23, 29], dtype=np.float32)\n",
    "#a2\n",
    "arang2 = np.arange(100,200)\n",
    "print(\"Resultado del array con numpy de numeros del 100 al 200:\",arang2)\n",
    "rang2py = [*range(100, 200)]\n",
    "print(rang2py)\n",
    "print(type(arang2))\n",
    "print(type(rang2py))\n",
    "#La diferencia como se puede comprobar con el método de python type es que tienen diferente tipo de datos\n",
    "#por lo que estos tendrán métodos diferentes con los que operar y serán eficientes a distinta manera.\n"
   ]
  },
  {
   "cell_type": "markdown",
   "metadata": {},
   "source": [
    "### Ejercicio 3\n",
    "### Crea la siguiente Matriz:\n",
    "![matriz](https://lh3.googleusercontent.com/fife/ALs6j_GHttlkXBpyi9lFO_AcUwaLNObMXj_qpslv3OrLF70ujXWVGzlajoGmUYnFh5kCryp6-Di1u8ufDR41UPZu9r_NcuXCQinRgckhh5uySxu8wLCSE5cySundMpUW70dSn8rHedmMd-ZWfvAR-LSNsuxDbgu6fICF6ABzYVFt8bpm9o7orPgnrrZyM6hKK49_bfBjLjpWwcBVjExLbOaU1W9hvVRNLJFvomOGAGi8LTLxKoZQu2k0LtRDJmpAnpkJC3EHd00UXR7yswY06hP_izou3rT2jyhAK4HaRNya90dl7ZI-UW2BCigyg0wfHXiMb8-b2QymlZYk3hq8b1KlziH-tETkWsU12kw8QLWjcgrf3WJ1-AtqUsCQH2dfm3WQPwAoI0Ax_-OW4EqQzcpdLtZn58pGAD0fccn7eVQDBDno7OYRjw0-SB_LoXmxmSV6qiup4ur2-234B3RhHMSeEiqU4dYo9_xTAYVq1s2nicWdJoFh16fTtsnlnjV2cOzrOI7l5H426Y49tj5IescSt51PeJ7MrUXWywPz0rtxW_mAHYe95gxt8EHgRmYxWUA1XH5NqecKEKZ6eC3v_wS6cTfmLBAxmrZH1PUDDHh-uUFYNrcg3Hwo3eXWr9ABnVOQZaslmeZLPwxBU3uCcO3YbbiKq6SIkSRqxhkzRGiIMXX_uufm6j5OVKEZXcZ3eXYvUVT8KBoObFQAKNqPr0sLtdXG3lEjnYE6BLdBOey_YHHSMHrjnfT-gLBIVXG1QTqVAcuyW4-QpmK820qYeylZ9D9DAPjX4hEvBhkNXCuXKaFlQU84NcFoc2TPw14TNig4JSt9kw_m0tS9NGlIz-LYmIazJaAYZRm2PN-WpZecKyaZkCP-rgV_1yYC4hsq07XIWzjimSbVxmZuGy9oE_moqVrwOT7w1JPHAvFoj3kadtmSL699jlIHNvKEUEkPX-dgp_2IY1bA5CdbntmRMfCRxeFRuyDMz2Qbqwszk0tegtVHaoXwKWpVMTKD5A45W0Vbrmcd5mtrZiHorllQyTPFGbdDfKozIKnxKfNVh9_LZxI-FopdoUp35AgrKGMxE4DbDShY-BzKTuYOTdkHIRxVvWCxnEZZgPgbaZfjfgVpG5vWwa42dBcybIvmx8lrUZ2q3GQSHx6v9noLXx79f3196123mv0BbT7NLwHrd58V6bFBgea7BgISzQ2vMeFmUcvBnaeoA535cYLrsziBTHu0pLqjZbfRaGIsovEwbMvoa6BLJ7UmdBCO_Ko4MrRs2nJ5IlLdNeMlaO2Xj0ldCR8V5DjeS9lSf0yAd2ey6JFTBAnykdq6zc3rPqIW6ItuwjSTL6MZNs_zUNeo0i-op_dD_19Da2UNKxqwH_uJXy_O94y0SaF5m_rHIUYMnO4vG8bN_tfM5DCQi6lT0qP32W12fFBFvYjRxmqwEbDyA2WxMm4YbhORJzrMptUyMhB6OOea0CAOLQQ3kg2rtSZbP8NKapZcA5KiceEtuWUxYSVWlQmyJrZNksO6nW4umPpqR_DhwDnE7hN0t0EbFygcbZKpQyPgTn6a-7vl84NjHwj0XJ3SlC-0sTJv50wkUALudZBJKTX_nyAerqwgpIYmkA=w1920-h968)\n"
   ]
  },
  {
   "cell_type": "markdown",
   "metadata": {},
   "source": [
    "#### Muestra el elemento de la fila 2º y la columna 3º. Es el valor del 7."
   ]
  },
  {
   "cell_type": "code",
   "execution_count": 89,
   "metadata": {},
   "outputs": [
    {
     "name": "stdout",
     "output_type": "stream",
     "text": [
      "Matriz: \n",
      " [[1 4 6 5]\n",
      " [4 1 7 3]\n",
      " [2 9 1 2]\n",
      " [6 3 1 1]]\n",
      "Elemento: 7\n"
     ]
    }
   ],
   "source": [
    "matriz3 = np.array([[1,4,6,5],[4,1,7,3],[2,9,1,2],[6,3,1,1]])\n",
    "print(\"Matriz:\",\"\\n\",matriz3)\n",
    "print(\"Elemento:\",matriz3[1,2])"
   ]
  },
  {
   "cell_type": "markdown",
   "metadata": {},
   "source": [
    "#### Muestra la 3º Fila"
   ]
  },
  {
   "cell_type": "code",
   "execution_count": 85,
   "metadata": {},
   "outputs": [
    {
     "name": "stdout",
     "output_type": "stream",
     "text": [
      "Matriz: \n",
      " [[1 4 6 5]\n",
      " [4 1 7 3]\n",
      " [2 9 1 2]\n",
      " [6 3 1 1]]\n",
      "3º Fila matriz: [2 9 1 2]\n"
     ]
    }
   ],
   "source": [
    "matriz3 = np.array([[1,4,6,5],[4,1,7,3],[2,9,1,2],[6,3,1,1]])\n",
    "print(\"Matriz:\",\"\\n\",matriz3)\n",
    "print(\"3º Fila matriz:\",matriz3[2])"
   ]
  },
  {
   "cell_type": "markdown",
   "metadata": {},
   "source": [
    "#### Muestra la 2º Columna"
   ]
  },
  {
   "cell_type": "code",
   "execution_count": 84,
   "metadata": {},
   "outputs": [
    {
     "name": "stdout",
     "output_type": "stream",
     "text": [
      "Matriz: \n",
      " [[1 4 6 5]\n",
      " [4 1 7 3]\n",
      " [2 9 1 2]\n",
      " [6 3 1 1]]\n",
      "2º Columna: [4 1 9 3]\n"
     ]
    }
   ],
   "source": [
    "matriz3 = np.array([[1,4,6,5],[4,1,7,3],[2,9,1,2],[6,3,1,1]])\n",
    "print(\"Matriz:\",\"\\n\",matriz3)\n",
    "print(\"2º Columna:\",matriz3[:,1])"
   ]
  },
  {
   "cell_type": "markdown",
   "metadata": {},
   "source": [
    "#### Muestra la 2º y 3º Columna"
   ]
  },
  {
   "cell_type": "code",
   "execution_count": 6,
   "metadata": {},
   "outputs": [
    {
     "name": "stdout",
     "output_type": "stream",
     "text": [
      "Matriz: \n",
      " [[1 4 6 5]\n",
      " [4 1 7 3]\n",
      " [2 9 1 2]\n",
      " [6 3 1 1]]\n",
      "2º Columna: [4 1 9 3] y 3º Columna: [6 7 1 1]\n",
      "2º Columna y 3º: [[4 6]\n",
      " [1 7]\n",
      " [9 1]\n",
      " [3 1]]\n"
     ]
    }
   ],
   "source": [
    "matriz3 = np.array([[1,4,6,5],[4,1,7,3],[2,9,1,2],[6,3,1,1]])\n",
    "print(\"Matriz:\",\"\\n\",matriz3)\n",
    "print(\"2º Columna:\",matriz3[:,1],\"y 3º Columna:\",matriz3[:,2])\n",
    "print(\"2º Columna y 3º:\",matriz3[:,1:3])"
   ]
  },
  {
   "cell_type": "markdown",
   "metadata": {},
   "source": [
    "#### Muestra la 2º y 3º Fila"
   ]
  },
  {
   "cell_type": "code",
   "execution_count": 82,
   "metadata": {},
   "outputs": [
    {
     "name": "stdout",
     "output_type": "stream",
     "text": [
      "Matriz: \n",
      " [[1 4 6 5]\n",
      " [4 1 7 3]\n",
      " [2 9 1 2]\n",
      " [6 3 1 1]]\n",
      "2º Fila: [4 1 7 3] 3º Fila: [2 9 1 2]\n",
      "2º y 3º Fila: \n",
      " [[4 1 7 3]\n",
      " [2 9 1 2]]\n"
     ]
    }
   ],
   "source": [
    "matriz3 = np.array([[1,4,6,5],[4,1,7,3],[2,9,1,2],[6,3,1,1]])\n",
    "print(\"Matriz:\",\"\\n\",matriz3)\n",
    "print(\"2º Fila:\",matriz3[1],\"3º Fila:\",matriz3[2])\n",
    "print(\"2º y 3º Fila:\",\"\\n\",matriz3[1:3:1])"
   ]
  },
  {
   "cell_type": "markdown",
   "metadata": {},
   "source": [
    "#### Muestra la última columna. Debe funcionar independientemente del número de columnas."
   ]
  },
  {
   "cell_type": "code",
   "execution_count": 83,
   "metadata": {},
   "outputs": [
    {
     "name": "stdout",
     "output_type": "stream",
     "text": [
      "Matriz: \n",
      " [[1 4 6 5]\n",
      " [4 1 7 3]\n",
      " [2 9 1 2]\n",
      " [6 3 1 1]]\n",
      "Última coluna de la matriz: \n",
      " [5 3 2 1]\n"
     ]
    }
   ],
   "source": [
    "matriz3 = np.array([[1,4,6,5],[4,1,7,3],[2,9,1,2],[6,3,1,1]])\n",
    "print(\"Matriz:\",\"\\n\",matriz3)\n",
    "print(\"Última coluna de la matriz:\",\"\\n\",matriz3[:,-1])"
   ]
  },
  {
   "cell_type": "markdown",
   "metadata": {},
   "source": [
    "#### Muestra la 2º y 4º Columna y la 1º y 3º fila"
   ]
  },
  {
   "cell_type": "code",
   "execution_count": 9,
   "metadata": {},
   "outputs": [
    {
     "name": "stdout",
     "output_type": "stream",
     "text": [
      "Matriz: \n",
      " [[1 4 6 5]\n",
      " [4 1 7 3]\n",
      " [2 9 1 2]\n",
      " [6 3 1 1]]\n",
      "2º y 4º Columna y 1º y 3º Fila: \n",
      " [[4 5]\n",
      " [9 2]]\n"
     ]
    }
   ],
   "source": [
    "matriz3 = np.array([[1,4,6,5],[4,1,7,3],[2,9,1,2],[6,3,1,1]])\n",
    "print(\"Matriz:\",\"\\n\",matriz3)\n",
    "print(\"2º y 4º Columna y 1º y 3º Fila:\",\"\\n\",matriz3[[0, 2], :][:, [1, 3]])"
   ]
  },
  {
   "cell_type": "markdown",
   "metadata": {},
   "source": [
    "#### Muestra de la 2º a la 3º Columna y de la 1º a la 3º fila"
   ]
  },
  {
   "cell_type": "code",
   "execution_count": 10,
   "metadata": {},
   "outputs": [
    {
     "name": "stdout",
     "output_type": "stream",
     "text": [
      "Matriz: \n",
      " [[1 4 6 5]\n",
      " [4 1 7 3]\n",
      " [2 9 1 2]\n",
      " [6 3 1 1]]\n",
      "2º - 3º Columna Y 1º - 3 fila: \n",
      " [[4 6]\n",
      " [9 1]]\n"
     ]
    }
   ],
   "source": [
    "matriz3 = np.array([[1,4,6,5],[4,1,7,3],[2,9,1,2],[6,3,1,1]])\n",
    "print(\"Matriz:\",\"\\n\",matriz3)\n",
    "print(\"2º - 3º Columna Y 1º - 3 fila:\",\"\\n\",matriz3[[0, 2], :][:, [1, 2]])"
   ]
  },
  {
   "cell_type": "markdown",
   "metadata": {},
   "source": [
    "#### Muestra todas las columnas excepto la primera y la última. Debe funcionar independientemente del número de columnas."
   ]
  },
  {
   "cell_type": "code",
   "execution_count": 22,
   "metadata": {},
   "outputs": [
    {
     "name": "stdout",
     "output_type": "stream",
     "text": [
      "Matriz: \n",
      " [[1 4 6 5]\n",
      " [4 1 7 3]\n",
      " [2 9 1 2]\n",
      " [6 3 1 1]\n",
      " [2 9 1 2]]\n",
      "Todas las columnas menos 1º y última: \n",
      " [[4 6]\n",
      " [1 7]\n",
      " [9 1]\n",
      " [3 1]\n",
      " [9 1]]\n"
     ]
    }
   ],
   "source": [
    "matriz3 = np.array([[1,4,6,5],[4,1,7,3],[2,9,1,2],[6,3,1,1],[2,9,1,2]])\n",
    "print(\"Matriz:\",\"\\n\",matriz3)\n",
    "print(\"Todas las columnas menos 1º y última:\",\"\\n\",matriz3[:, 1: -1])"
   ]
  },
  {
   "cell_type": "markdown",
   "metadata": {},
   "source": [
    "#### Muestra todas las filas excepto la primera y la última. Debe funcionar independientemente del número de filas."
   ]
  },
  {
   "cell_type": "code",
   "execution_count": 26,
   "metadata": {},
   "outputs": [
    {
     "name": "stdout",
     "output_type": "stream",
     "text": [
      "Matriz: \n",
      " [[1 4 6 5]\n",
      " [4 1 7 3]\n",
      " [2 9 1 2]\n",
      " [6 3 1 1]]\n",
      "Todas las filas menos 1º y última: \n",
      " [[4 1 7 3]\n",
      " [2 9 1 2]]\n"
     ]
    }
   ],
   "source": [
    "matriz3 = np.array([[1,4,6,5],[4,1,7,3],[2,9,1,2],[6,3,1,1]])\n",
    "print(\"Matriz:\",\"\\n\",matriz3)\n",
    "print(\"Todas las filas menos 1º y última:\",\"\\n\",matriz3[1: -1])"
   ]
  },
  {
   "cell_type": "markdown",
   "metadata": {},
   "source": [
    "#### Muestra todas las columnas excepto la primera y la última y todas las filas excepto la primera y la última. Debe funcionar independientemente del número de filas y columnas."
   ]
  },
  {
   "cell_type": "code",
   "execution_count": 31,
   "metadata": {},
   "outputs": [
    {
     "name": "stdout",
     "output_type": "stream",
     "text": [
      "Matriz: \n",
      " [[1 4 6 5]\n",
      " [4 1 7 3]\n",
      " [2 9 1 2]\n",
      " [6 3 1 1]]\n",
      "Todas las filas y columnas menos 1º y última: \n",
      " [[1 7]\n",
      " [9 1]]\n"
     ]
    }
   ],
   "source": [
    "matriz3 = np.array([[1,4,6,5],[4,1,7,3],[2,9,1,2],[6,3,1,1]])\n",
    "print(\"Matriz:\",\"\\n\",matriz3)\n",
    "print(\"Todas las filas y columnas menos 1º y última:\",\"\\n\",matriz3[1:-1,1:-1])"
   ]
  },
  {
   "cell_type": "markdown",
   "metadata": {},
   "source": [
    "#### Imprime la matriz y haz que las cabeceras de cada columna sean A, B , C y D"
   ]
  },
  {
   "cell_type": "code",
   "execution_count": 147,
   "metadata": {},
   "outputs": [
    {
     "name": "stdout",
     "output_type": "stream",
     "text": [
      "[['A' 'B' 'C' 'D']\n",
      " ['1' '4' '6' '5']\n",
      " ['4' '1' '7' '3']\n",
      " ['2' '9' '1' '2']\n",
      " ['6' '3' '1' '1']]\n"
     ]
    }
   ],
   "source": [
    "matriz3str = np.array([[1,4,6,5],[4,1,7,3],[2,9,1,2],[6,3,1,1]], dtype=str)\n",
    "letras = np.array(['A', 'B', 'C', 'D'], dtype=str)\n",
    "matriz_final = np.vstack((letras, matriz3str))\n",
    "print(matriz_final)"
   ]
  },
  {
   "cell_type": "markdown",
   "metadata": {},
   "source": [
    "### Ejercicio 4\n",
    "#### El siguiente array contiene las temperaturas medias que ha hecho en Valencia en cada mes [10.2, 10.7, 13.3, 15.8, 19.3, 23.6, 26, 25.9, 22.8, 19.1, 13.9, 10.8 ]"
   ]
  },
  {
   "cell_type": "markdown",
   "metadata": {},
   "source": [
    "#### Muestra las temperaturas cuyo valor sea mayor que 20"
   ]
  },
  {
   "cell_type": "code",
   "execution_count": 41,
   "metadata": {},
   "outputs": [
    {
     "name": "stdout",
     "output_type": "stream",
     "text": [
      "Todas las Temperaturas: \n",
      " [10.2 10.7 13.3 15.8 19.3 23.6 26.  25.9 22.8 19.1 13.9 10.8]\n",
      "Temperaturas mayor a 20 grados: [23.6 26.  25.9 22.8]\n"
     ]
    }
   ],
   "source": [
    "temperaturas = np.array([10.2, 10.7, 13.3, 15.8, 19.3, 23.6, 26, 25.9, 22.8, 19.1, 13.9, 10.8])\n",
    "print(\"Todas las Temperaturas:\",\"\\n\",temperaturas)\n",
    "mayor20 = temperaturas > 20\n",
    "print(\"Temperaturas mayor a 20 grados:\",temperaturas[mayor20])"
   ]
  },
  {
   "cell_type": "markdown",
   "metadata": {},
   "source": [
    "#### Muestra las temperaturas cuyo valor sea menor que 11"
   ]
  },
  {
   "cell_type": "code",
   "execution_count": 42,
   "metadata": {},
   "outputs": [
    {
     "name": "stdout",
     "output_type": "stream",
     "text": [
      "Todas las Temperaturas: \n",
      " [10.2 10.7 13.3 15.8 19.3 23.6 26.  25.9 22.8 19.1 13.9 10.8]\n",
      "Temperaturas menor a 11 grados: [10.2 10.7 10.8]\n"
     ]
    }
   ],
   "source": [
    "temperaturas = np.array([10.2, 10.7, 13.3, 15.8, 19.3, 23.6, 26, 25.9, 22.8, 19.1, 13.9, 10.8])\n",
    "print(\"Todas las Temperaturas:\",\"\\n\",temperaturas)\n",
    "menor11 = temperaturas < 11\n",
    "print(\"Temperaturas menor a 11 grados:\",temperaturas[menor11])"
   ]
  },
  {
   "cell_type": "markdown",
   "metadata": {},
   "source": [
    "#### Muestra las temperaturas cuyo valor sea mayor que 20 o menor que 11"
   ]
  },
  {
   "cell_type": "code",
   "execution_count": 47,
   "metadata": {},
   "outputs": [
    {
     "name": "stdout",
     "output_type": "stream",
     "text": [
      "Todas las Temperaturas: \n",
      " [10.2 10.7 13.3 15.8 19.3 23.6 26.  25.9 22.8 19.1 13.9 10.8]\n",
      "Temperaturas mayor a 20 y menor a 11 grados: [10.2 10.7 23.6 26.  25.9 22.8 10.8]\n"
     ]
    }
   ],
   "source": [
    "temperaturas = np.array([10.2, 10.7, 13.3, 15.8, 19.3, 23.6, 26, 25.9, 22.8, 19.1, 13.9, 10.8])\n",
    "print(\"Todas las Temperaturas:\",\"\\n\",temperaturas)\n",
    "mayor20menor11 = (temperaturas > 20) | (temperaturas < 11)\n",
    "print(\"Temperaturas mayor a 20 y menor a 11 grados:\",temperaturas[mayor20menor11])"
   ]
  },
  {
   "cell_type": "markdown",
   "metadata": {},
   "source": [
    "### Ejercicio 5\n",
    "#### Carga los datos de un dataset muy utilizado en la ciencia de datos con con el siguiente código:\n",
    "#### from sklearn.datasets import load_iris\n",
    "#### datos=load_iris().data\n",
    "#### resultado=load_iris().target\n",
    "\n"
   ]
  },
  {
   "cell_type": "code",
   "execution_count": 3,
   "metadata": {},
   "outputs": [
    {
     "name": "stderr",
     "output_type": "stream",
     "text": [
      "\n",
      "A module that was compiled using NumPy 1.x cannot be run in\n",
      "NumPy 2.1.2 as it may crash. To support both 1.x and 2.x\n",
      "versions of NumPy, modules must be compiled with NumPy 2.0.\n",
      "Some module may need to rebuild instead e.g. with 'pybind11>=2.12'.\n",
      "\n",
      "If you are a user of the module, the easiest solution will be to\n",
      "downgrade to 'numpy<2' or try to upgrade the affected module.\n",
      "We expect that some modules will need time to support NumPy 2.\n",
      "\n",
      "Traceback (most recent call last):  File \"<frozen runpy>\", line 198, in _run_module_as_main\n",
      "  File \"<frozen runpy>\", line 88, in _run_code\n",
      "  File \"/usr/lib/python3/dist-packages/ipykernel_launcher.py\", line 18, in <module>\n",
      "    app.launch_new_instance()\n",
      "  File \"/usr/lib/python3/dist-packages/traitlets/config/application.py\", line 982, in launch_instance\n",
      "    app.start()\n",
      "  File \"/usr/lib/python3/dist-packages/ipykernel/kernelapp.py\", line 739, in start\n",
      "    self.io_loop.start()\n",
      "  File \"/usr/lib/python3/dist-packages/tornado/platform/asyncio.py\", line 205, in start\n",
      "    self.asyncio_loop.run_forever()\n",
      "  File \"/usr/lib/python3.12/asyncio/base_events.py\", line 641, in run_forever\n",
      "    self._run_once()\n",
      "  File \"/usr/lib/python3.12/asyncio/base_events.py\", line 1987, in _run_once\n",
      "    handle._run()\n",
      "  File \"/usr/lib/python3.12/asyncio/events.py\", line 88, in _run\n",
      "    self._context.run(self._callback, *self._args)\n",
      "  File \"/usr/lib/python3/dist-packages/ipykernel/kernelbase.py\", line 545, in dispatch_queue\n",
      "    await self.process_one()\n",
      "  File \"/usr/lib/python3/dist-packages/ipykernel/kernelbase.py\", line 534, in process_one\n",
      "    await dispatch(*args)\n",
      "  File \"/usr/lib/python3/dist-packages/ipykernel/kernelbase.py\", line 437, in dispatch_shell\n",
      "    await result\n",
      "  File \"/usr/lib/python3/dist-packages/ipykernel/ipkernel.py\", line 359, in execute_request\n",
      "    await super().execute_request(stream, ident, parent)\n",
      "  File \"/usr/lib/python3/dist-packages/ipykernel/kernelbase.py\", line 778, in execute_request\n",
      "    reply_content = await reply_content\n",
      "  File \"/usr/lib/python3/dist-packages/ipykernel/ipkernel.py\", line 446, in do_execute\n",
      "    res = shell.run_cell(\n",
      "  File \"/usr/lib/python3/dist-packages/ipykernel/zmqshell.py\", line 549, in run_cell\n",
      "    return super().run_cell(*args, **kwargs)\n",
      "  File \"/usr/lib/python3/dist-packages/IPython/core/interactiveshell.py\", line 3051, in run_cell\n",
      "    result = self._run_cell(\n",
      "  File \"/usr/lib/python3/dist-packages/IPython/core/interactiveshell.py\", line 3106, in _run_cell\n",
      "    result = runner(coro)\n",
      "  File \"/usr/lib/python3/dist-packages/IPython/core/async_helpers.py\", line 129, in _pseudo_sync_runner\n",
      "    coro.send(None)\n",
      "  File \"/usr/lib/python3/dist-packages/IPython/core/interactiveshell.py\", line 3311, in run_cell_async\n",
      "    has_raised = await self.run_ast_nodes(code_ast.body, cell_name,\n",
      "  File \"/usr/lib/python3/dist-packages/IPython/core/interactiveshell.py\", line 3493, in run_ast_nodes\n",
      "    if await self.run_code(code, result, async_=asy):\n",
      "  File \"/usr/lib/python3/dist-packages/IPython/core/interactiveshell.py\", line 3553, in run_code\n",
      "    exec(code_obj, self.user_global_ns, self.user_ns)\n",
      "  File \"/tmp/ipykernel_16106/2700850753.py\", line 1, in <module>\n",
      "    from sklearn.datasets import load_iris\n",
      "  File \"/usr/lib/python3/dist-packages/sklearn/__init__.py\", line 87, in <module>\n",
      "    from .base import clone\n",
      "  File \"/usr/lib/python3/dist-packages/sklearn/base.py\", line 19, in <module>\n",
      "    from .utils import _IS_32BIT\n",
      "  File \"/usr/lib/python3/dist-packages/sklearn/utils/__init__.py\", line 16, in <module>\n",
      "    from scipy.sparse import issparse\n",
      "  File \"/usr/lib/python3/dist-packages/scipy/sparse/__init__.py\", line 274, in <module>\n",
      "    from ._csr import *\n",
      "  File \"/usr/lib/python3/dist-packages/scipy/sparse/_csr.py\", line 11, in <module>\n",
      "    from ._sparsetools import (csr_tocsc, csr_tobsr, csr_count_blocks,\n"
     ]
    },
    {
     "ename": "ImportError",
     "evalue": "\nA module that was compiled using NumPy 1.x cannot be run in\nNumPy 2.1.2 as it may crash. To support both 1.x and 2.x\nversions of NumPy, modules must be compiled with NumPy 2.0.\nSome module may need to rebuild instead e.g. with 'pybind11>=2.12'.\n\nIf you are a user of the module, the easiest solution will be to\ndowngrade to 'numpy<2' or try to upgrade the affected module.\nWe expect that some modules will need time to support NumPy 2.\n\n",
     "output_type": "error",
     "traceback": [
      "\u001b[0;31m---------------------------------------------------------------------------\u001b[0m",
      "\u001b[0;31mImportError\u001b[0m                               Traceback (most recent call last)",
      "File \u001b[0;32m/usr/local/lib/python3.12/dist-packages/numpy/core/_multiarray_umath.py:44\u001b[0m, in \u001b[0;36m__getattr__\u001b[0;34m(attr_name)\u001b[0m\n\u001b[1;32m     39\u001b[0m     \u001b[38;5;66;03m# Also print the message (with traceback).  This is because old versions\u001b[39;00m\n\u001b[1;32m     40\u001b[0m     \u001b[38;5;66;03m# of NumPy unfortunately set up the import to replace (and hide) the\u001b[39;00m\n\u001b[1;32m     41\u001b[0m     \u001b[38;5;66;03m# error.  The traceback shouldn't be needed, but e.g. pytest plugins\u001b[39;00m\n\u001b[1;32m     42\u001b[0m     \u001b[38;5;66;03m# seem to swallow it and we should be failing anyway...\u001b[39;00m\n\u001b[1;32m     43\u001b[0m     sys\u001b[38;5;241m.\u001b[39mstderr\u001b[38;5;241m.\u001b[39mwrite(msg \u001b[38;5;241m+\u001b[39m tb_msg)\n\u001b[0;32m---> 44\u001b[0m     \u001b[38;5;28;01mraise\u001b[39;00m \u001b[38;5;167;01mImportError\u001b[39;00m(msg)\n\u001b[1;32m     46\u001b[0m ret \u001b[38;5;241m=\u001b[39m \u001b[38;5;28mgetattr\u001b[39m(_multiarray_umath, attr_name, \u001b[38;5;28;01mNone\u001b[39;00m)\n\u001b[1;32m     47\u001b[0m \u001b[38;5;28;01mif\u001b[39;00m ret \u001b[38;5;129;01mis\u001b[39;00m \u001b[38;5;28;01mNone\u001b[39;00m:\n",
      "\u001b[0;31mImportError\u001b[0m: \nA module that was compiled using NumPy 1.x cannot be run in\nNumPy 2.1.2 as it may crash. To support both 1.x and 2.x\nversions of NumPy, modules must be compiled with NumPy 2.0.\nSome module may need to rebuild instead e.g. with 'pybind11>=2.12'.\n\nIf you are a user of the module, the easiest solution will be to\ndowngrade to 'numpy<2' or try to upgrade the affected module.\nWe expect that some modules will need time to support NumPy 2.\n\n"
     ]
    },
    {
     "ename": "ImportError",
     "evalue": "numpy.core.multiarray failed to import",
     "output_type": "error",
     "traceback": [
      "\u001b[0;31m---------------------------------------------------------------------------\u001b[0m",
      "\u001b[0;31mImportError\u001b[0m                               Traceback (most recent call last)",
      "Cell \u001b[0;32mIn[3], line 1\u001b[0m\n\u001b[0;32m----> 1\u001b[0m \u001b[38;5;28;01mfrom\u001b[39;00m \u001b[38;5;21;01msklearn\u001b[39;00m\u001b[38;5;21;01m.\u001b[39;00m\u001b[38;5;21;01mdatasets\u001b[39;00m \u001b[38;5;28;01mimport\u001b[39;00m load_iris\n\u001b[1;32m      2\u001b[0m datos\u001b[38;5;241m=\u001b[39mload_iris()\u001b[38;5;241m.\u001b[39mdata\n\u001b[1;32m      3\u001b[0m resultado\u001b[38;5;241m=\u001b[39mload_iris()\u001b[38;5;241m.\u001b[39mtarget\n",
      "File \u001b[0;32m/usr/lib/python3/dist-packages/sklearn/__init__.py:87\u001b[0m\n\u001b[1;32m     73\u001b[0m     \u001b[38;5;66;03m# We are not importing the rest of scikit-learn during the build\u001b[39;00m\n\u001b[1;32m     74\u001b[0m     \u001b[38;5;66;03m# process, as it may not be compiled yet\u001b[39;00m\n\u001b[1;32m     75\u001b[0m \u001b[38;5;28;01melse\u001b[39;00m:\n\u001b[0;32m   (...)\u001b[0m\n\u001b[1;32m     81\u001b[0m     \u001b[38;5;66;03m# later is linked to the OpenMP runtime to make it possible to introspect\u001b[39;00m\n\u001b[1;32m     82\u001b[0m     \u001b[38;5;66;03m# it and importing it first would fail if the OpenMP dll cannot be found.\u001b[39;00m\n\u001b[1;32m     83\u001b[0m     \u001b[38;5;28;01mfrom\u001b[39;00m \u001b[38;5;21;01m.\u001b[39;00m \u001b[38;5;28;01mimport\u001b[39;00m (\n\u001b[1;32m     84\u001b[0m         __check_build,  \u001b[38;5;66;03m# noqa: F401\u001b[39;00m\n\u001b[1;32m     85\u001b[0m         _distributor_init,  \u001b[38;5;66;03m# noqa: F401\u001b[39;00m\n\u001b[1;32m     86\u001b[0m     )\n\u001b[0;32m---> 87\u001b[0m     \u001b[38;5;28;01mfrom\u001b[39;00m \u001b[38;5;21;01m.\u001b[39;00m\u001b[38;5;21;01mbase\u001b[39;00m \u001b[38;5;28;01mimport\u001b[39;00m clone\n\u001b[1;32m     88\u001b[0m     \u001b[38;5;28;01mfrom\u001b[39;00m \u001b[38;5;21;01m.\u001b[39;00m\u001b[38;5;21;01mutils\u001b[39;00m\u001b[38;5;21;01m.\u001b[39;00m\u001b[38;5;21;01m_show_versions\u001b[39;00m \u001b[38;5;28;01mimport\u001b[39;00m show_versions\n\u001b[1;32m     90\u001b[0m     __all__ \u001b[38;5;241m=\u001b[39m [\n\u001b[1;32m     91\u001b[0m         \u001b[38;5;124m\"\u001b[39m\u001b[38;5;124mcalibration\u001b[39m\u001b[38;5;124m\"\u001b[39m,\n\u001b[1;32m     92\u001b[0m         \u001b[38;5;124m\"\u001b[39m\u001b[38;5;124mcluster\u001b[39m\u001b[38;5;124m\"\u001b[39m,\n\u001b[0;32m   (...)\u001b[0m\n\u001b[1;32m    133\u001b[0m         \u001b[38;5;124m\"\u001b[39m\u001b[38;5;124mshow_versions\u001b[39m\u001b[38;5;124m\"\u001b[39m,\n\u001b[1;32m    134\u001b[0m     ]\n",
      "File \u001b[0;32m/usr/lib/python3/dist-packages/sklearn/base.py:19\u001b[0m\n\u001b[1;32m     17\u001b[0m \u001b[38;5;28;01mfrom\u001b[39;00m \u001b[38;5;21;01m.\u001b[39;00m\u001b[38;5;21;01m_config\u001b[39;00m \u001b[38;5;28;01mimport\u001b[39;00m config_context, get_config\n\u001b[1;32m     18\u001b[0m \u001b[38;5;28;01mfrom\u001b[39;00m \u001b[38;5;21;01m.\u001b[39;00m\u001b[38;5;21;01mexceptions\u001b[39;00m \u001b[38;5;28;01mimport\u001b[39;00m InconsistentVersionWarning\n\u001b[0;32m---> 19\u001b[0m \u001b[38;5;28;01mfrom\u001b[39;00m \u001b[38;5;21;01m.\u001b[39;00m\u001b[38;5;21;01mutils\u001b[39;00m \u001b[38;5;28;01mimport\u001b[39;00m _IS_32BIT\n\u001b[1;32m     20\u001b[0m \u001b[38;5;28;01mfrom\u001b[39;00m \u001b[38;5;21;01m.\u001b[39;00m\u001b[38;5;21;01mutils\u001b[39;00m\u001b[38;5;21;01m.\u001b[39;00m\u001b[38;5;21;01m_estimator_html_repr\u001b[39;00m \u001b[38;5;28;01mimport\u001b[39;00m _HTMLDocumentationLinkMixin, estimator_html_repr\n\u001b[1;32m     21\u001b[0m \u001b[38;5;28;01mfrom\u001b[39;00m \u001b[38;5;21;01m.\u001b[39;00m\u001b[38;5;21;01mutils\u001b[39;00m\u001b[38;5;21;01m.\u001b[39;00m\u001b[38;5;21;01m_metadata_requests\u001b[39;00m \u001b[38;5;28;01mimport\u001b[39;00m _MetadataRequester, _routing_enabled\n",
      "File \u001b[0;32m/usr/lib/python3/dist-packages/sklearn/utils/__init__.py:16\u001b[0m\n\u001b[1;32m     13\u001b[0m \u001b[38;5;28;01mfrom\u001b[39;00m \u001b[38;5;21;01mitertools\u001b[39;00m \u001b[38;5;28;01mimport\u001b[39;00m compress, islice\n\u001b[1;32m     15\u001b[0m \u001b[38;5;28;01mimport\u001b[39;00m \u001b[38;5;21;01mnumpy\u001b[39;00m \u001b[38;5;28;01mas\u001b[39;00m \u001b[38;5;21;01mnp\u001b[39;00m\n\u001b[0;32m---> 16\u001b[0m \u001b[38;5;28;01mfrom\u001b[39;00m \u001b[38;5;21;01mscipy\u001b[39;00m\u001b[38;5;21;01m.\u001b[39;00m\u001b[38;5;21;01msparse\u001b[39;00m \u001b[38;5;28;01mimport\u001b[39;00m issparse\n\u001b[1;32m     18\u001b[0m \u001b[38;5;28;01mfrom\u001b[39;00m \u001b[38;5;21;01m.\u001b[39;00m\u001b[38;5;21;01m.\u001b[39;00m \u001b[38;5;28;01mimport\u001b[39;00m get_config\n\u001b[1;32m     19\u001b[0m \u001b[38;5;28;01mfrom\u001b[39;00m \u001b[38;5;21;01m.\u001b[39;00m\u001b[38;5;21;01m.\u001b[39;00m\u001b[38;5;21;01mexceptions\u001b[39;00m \u001b[38;5;28;01mimport\u001b[39;00m DataConversionWarning\n",
      "File \u001b[0;32m/usr/lib/python3/dist-packages/scipy/sparse/__init__.py:274\u001b[0m\n\u001b[1;32m    271\u001b[0m \u001b[38;5;28;01mimport\u001b[39;00m \u001b[38;5;21;01mwarnings\u001b[39;00m \u001b[38;5;28;01mas\u001b[39;00m \u001b[38;5;21;01m_warnings\u001b[39;00m\n\u001b[1;32m    273\u001b[0m \u001b[38;5;28;01mfrom\u001b[39;00m \u001b[38;5;21;01m.\u001b[39;00m\u001b[38;5;21;01m_base\u001b[39;00m \u001b[38;5;28;01mimport\u001b[39;00m \u001b[38;5;241m*\u001b[39m\n\u001b[0;32m--> 274\u001b[0m \u001b[38;5;28;01mfrom\u001b[39;00m \u001b[38;5;21;01m.\u001b[39;00m\u001b[38;5;21;01m_csr\u001b[39;00m \u001b[38;5;28;01mimport\u001b[39;00m \u001b[38;5;241m*\u001b[39m\n\u001b[1;32m    275\u001b[0m \u001b[38;5;28;01mfrom\u001b[39;00m \u001b[38;5;21;01m.\u001b[39;00m\u001b[38;5;21;01m_csc\u001b[39;00m \u001b[38;5;28;01mimport\u001b[39;00m \u001b[38;5;241m*\u001b[39m\n\u001b[1;32m    276\u001b[0m \u001b[38;5;28;01mfrom\u001b[39;00m \u001b[38;5;21;01m.\u001b[39;00m\u001b[38;5;21;01m_lil\u001b[39;00m \u001b[38;5;28;01mimport\u001b[39;00m \u001b[38;5;241m*\u001b[39m\n",
      "File \u001b[0;32m/usr/lib/python3/dist-packages/scipy/sparse/_csr.py:11\u001b[0m\n\u001b[1;32m      9\u001b[0m \u001b[38;5;28;01mfrom\u001b[39;00m \u001b[38;5;21;01m.\u001b[39;00m\u001b[38;5;21;01m_matrix\u001b[39;00m \u001b[38;5;28;01mimport\u001b[39;00m spmatrix, _array_doc_to_matrix\n\u001b[1;32m     10\u001b[0m \u001b[38;5;28;01mfrom\u001b[39;00m \u001b[38;5;21;01m.\u001b[39;00m\u001b[38;5;21;01m_base\u001b[39;00m \u001b[38;5;28;01mimport\u001b[39;00m _spbase, sparray\n\u001b[0;32m---> 11\u001b[0m \u001b[38;5;28;01mfrom\u001b[39;00m \u001b[38;5;21;01m.\u001b[39;00m\u001b[38;5;21;01m_sparsetools\u001b[39;00m \u001b[38;5;28;01mimport\u001b[39;00m (csr_tocsc, csr_tobsr, csr_count_blocks,\n\u001b[1;32m     12\u001b[0m                            get_csr_submatrix)\n\u001b[1;32m     13\u001b[0m \u001b[38;5;28;01mfrom\u001b[39;00m \u001b[38;5;21;01m.\u001b[39;00m\u001b[38;5;21;01m_sputils\u001b[39;00m \u001b[38;5;28;01mimport\u001b[39;00m upcast\n\u001b[1;32m     15\u001b[0m \u001b[38;5;28;01mfrom\u001b[39;00m \u001b[38;5;21;01m.\u001b[39;00m\u001b[38;5;21;01m_compressed\u001b[39;00m \u001b[38;5;28;01mimport\u001b[39;00m _cs_matrix\n",
      "\u001b[0;31mImportError\u001b[0m: numpy.core.multiarray failed to import"
     ]
    }
   ],
   "source": [
    "from sklearn.datasets import load_iris\n",
    "datos=load_iris().data\n",
    "resultado=load_iris().target"
   ]
  }
 ],
 "metadata": {
  "kernelspec": {
   "display_name": "Python 3",
   "language": "python",
   "name": "python3"
  },
  "language_info": {
   "codemirror_mode": {
    "name": "ipython",
    "version": 3
   },
   "file_extension": ".py",
   "mimetype": "text/x-python",
   "name": "python",
   "nbconvert_exporter": "python",
   "pygments_lexer": "ipython3",
   "version": "3.12.3"
  }
 },
 "nbformat": 4,
 "nbformat_minor": 2
}
